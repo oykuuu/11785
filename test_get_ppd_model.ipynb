{
 "cells": [
  {
   "cell_type": "code",
   "execution_count": 1,
   "metadata": {},
   "outputs": [
    {
     "name": "stderr",
     "output_type": "stream",
     "text": [
      "Using TensorFlow backend.\n",
      "/usr/local/Cellar/python/3.6.5/Frameworks/Python.framework/Versions/3.6/lib/python3.6/importlib/_bootstrap.py:219: RuntimeWarning: compiletime version 3.5 of module 'tensorflow.python.framework.fast_tensor_util' does not match runtime version 3.6\n",
      "  return f(*args, **kwds)\n"
     ]
    }
   ],
   "source": [
    "from utils import *"
   ]
  },
  {
   "cell_type": "code",
   "execution_count": 2,
   "metadata": {},
   "outputs": [
    {
     "name": "stdout",
     "output_type": "stream",
     "text": [
      "_________________________________________________________________\n",
      "Layer (type)                 Output Shape              Param #   \n",
      "=================================================================\n",
      "input_images (InputLayer)    (None, 28, 28, 1)         0         \n",
      "_________________________________________________________________\n",
      "pixel2phase (Lambda)         (None, 28, 28, 1)         0         \n",
      "_________________________________________________________________\n",
      "flatten (Flatten)            (None, 784)               0         \n",
      "_________________________________________________________________\n",
      "dense800 (Dense)             (None, 800)               628000    \n",
      "_________________________________________________________________\n",
      "dense300 (Dense)             (None, 300)               240300    \n",
      "_________________________________________________________________\n",
      "dense10 (Dense)              (None, 10)                3010      \n",
      "=================================================================\n",
      "Total params: 871,310\n",
      "Trainable params: 871,310\n",
      "Non-trainable params: 0\n",
      "_________________________________________________________________\n",
      "_________________________________________________________________\n",
      "Layer (type)                 Output Shape              Param #   \n",
      "=================================================================\n",
      "input_images (InputLayer)    (None, 32, 32, 3)         0         \n",
      "_________________________________________________________________\n",
      "pixel2phase (Lambda)         (None, 32, 32, 3)         0         \n",
      "_________________________________________________________________\n",
      "flatten (Flatten)            (None, 3072)              0         \n",
      "_________________________________________________________________\n",
      "dense800 (Dense)             (None, 800)               2458400   \n",
      "_________________________________________________________________\n",
      "dense300 (Dense)             (None, 300)               240300    \n",
      "_________________________________________________________________\n",
      "dense10 (Dense)              (None, 10)                3010      \n",
      "=================================================================\n",
      "Total params: 2,701,710\n",
      "Trainable params: 2,701,710\n",
      "Non-trainable params: 0\n",
      "_________________________________________________________________\n"
     ]
    }
   ],
   "source": [
    "mnist_model = get_ppd_model('mnist')\n",
    "mnist_model.summary()\n",
    "\n",
    "cifar10_model = get_ppd_model('cifar10')\n",
    "cifar10_model.summary()"
   ]
  },
  {
   "cell_type": "code",
   "execution_count": null,
   "metadata": {},
   "outputs": [],
   "source": []
  },
  {
   "cell_type": "code",
   "execution_count": null,
   "metadata": {},
   "outputs": [],
   "source": []
  },
  {
   "cell_type": "code",
   "execution_count": null,
   "metadata": {},
   "outputs": [],
   "source": []
  },
  {
   "cell_type": "code",
   "execution_count": null,
   "metadata": {},
   "outputs": [],
   "source": [
    "# I added permute_pixel block to go inside the keras model, but that yielded terrible accuracy results. (~18% on MNIST)\n",
    "# The PPD paper mentions Pixel2Phase block being in tensorflow, but not the permutation block, so I took it out.\n",
    "# I'll leave this code in case we end up needing it.\n",
    "\n",
    "def get_ppd_model_old(name='mnist', SECRET_SEED=0):\n",
    "    if name == 'mnist':\n",
    "        input_shape = (28, 28, 1)\n",
    "    else:\n",
    "        input_shape = (32, 32, 3)  # cifar10\n",
    "    \n",
    "    def permute_pixel(args):\n",
    "        image_tensor = args  # image tensor is shape batch_size x image_rows x image_cols x n_channels\n",
    "        tf.set_random_seed(SECRET_SEED)\n",
    "        x = tf.reshape(image_tensor, [-1, input_shape[0]*input_shape[1], input_shape[2]])  # flatten per channel per image\n",
    "        x = tf.transpose(x, [1, 0, 2])  # move the pixels to first axis\n",
    "        x = tf.random_shuffle(x, seed=SECRET_SEED)  # shuffle pixels\n",
    "        x = tf.transpose(x, [1, 0, 2])\n",
    "        image_tensor = tf.reshape(x, [-1, input_shape[0], input_shape[1], input_shape[2]])  # reshape to original shape\n",
    "        return image_tensor\n",
    "\n",
    "\n",
    "    def pixel2phase(images):\n",
    "        img_fft = tf.fft2d(tf.cast(images, tf.complex64))\n",
    "        phase = tf.angle(img_fft)\n",
    "        return phase\n",
    "    \n",
    "    input_tensor = Input(name='input_images', shape=input_shape, dtype='float32')\n",
    "    inner = Lambda(permute_pixel, name='permute_pixel', output_shape=input_shape)(input_tensor)\n",
    "    inner = Lambda(pixel2phase, name='pixel2phase', output_shape=input_shape)(inner)\n",
    "    inner = Flatten(name='flatten')(input_tensor)\n",
    "    inner = Dense(800,  name='dense800', kernel_initializer='he_normal', activation='relu')(inner)\n",
    "    inner = Dense(300,  name='dense300', kernel_initializer='he_normal', activation='relu')(inner)\n",
    "    y_pred = Dense(10,  name='dense10', kernel_initializer='he_normal', activation='softmax')(inner)\n",
    "\n",
    "    return Model(inputs=[input_tensor], outputs=y_pred)\n",
    "\n",
    "mnist_model = get_ppd_model('mnist', 23)\n",
    "mnist_model.summary()\n",
    "\n",
    "cifar10_model = get_ppd_model('cifar10', 87)\n",
    "cifar10_model.summary()"
   ]
  }
 ],
 "metadata": {
  "kernelspec": {
   "display_name": "Python 3",
   "language": "python",
   "name": "python3"
  },
  "language_info": {
   "codemirror_mode": {
    "name": "ipython",
    "version": 3
   },
   "file_extension": ".py",
   "mimetype": "text/x-python",
   "name": "python",
   "nbconvert_exporter": "python",
   "pygments_lexer": "ipython3",
   "version": "3.6.5"
  }
 },
 "nbformat": 4,
 "nbformat_minor": 2
}
