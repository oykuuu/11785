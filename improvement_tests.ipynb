{
 "cells": [
  {
   "cell_type": "code",
   "execution_count": null,
   "metadata": {},
   "outputs": [],
   "source": [
    "import numpy as np\n",
    "import tensorflow as tf\n",
    "import matplotlib.pyplot as plt\n",
    "from utils import *\n",
    "from sklearn.metrics import roc_curve\n",
    "from keras.callbacks import EarlyStopping\n",
    "from keras import backend\n",
    "from cleverhans.attacks import FastGradientMethod\n",
    "from cleverhans.utils_keras import KerasModelWrapper\n",
    "import matplotlib as mpl\n",
    "from keras.models import load_model\n",
    "\n",
    "DATASET_NAME = 'cifar10'\n",
    "(x_train, y_train, x_test, y_test) = get_dataset(DATASET_NAME)\n",
    "earlystop = EarlyStopping(monitor='val_loss', patience=0, restore_best_weights=True)"
   ]
  },
  {
   "cell_type": "code",
   "execution_count": null,
   "metadata": {},
   "outputs": [],
   "source": [
    "def pixel2phase_before(images):\n",
    "    img_fft = np.fft.fft2(images)\n",
    "    phase = np.angle(img_fft)\n",
    "    return phase"
   ]
  },
  {
   "cell_type": "code",
   "execution_count": null,
   "metadata": {},
   "outputs": [],
   "source": [
    "## Phase before Permutation + MLP   (seed 87)\n",
    "SECRET_SEED = 87\n",
    "\n",
    "x_train_phase = pixel2phase_before(x_train)\n",
    "x_test_phase = pixel2phase_before(x_test)\n",
    "x_train_shuffle = permute_pixels(x_train_phase, SECRET_SEED)\n",
    "x_test_shuffle = permute_pixels(x_test_phase, SECRET_SEED)\n",
    "\n",
    "order_model = get_ppd_model(name=DATASET_NAME, ppd=False)\n",
    "order_model.summary()\n",
    "order_model.compile(optimizer='adam',\n",
    "              loss='sparse_categorical_crossentropy',\n",
    "              metrics=['accuracy'])\n",
    "\n",
    "order_model.fit(x_train_shuffle, y_train, epochs=50, verbose=1, batch_size=128, validation_data=(x_test_shuffle, y_test), callbacks=[earlystop])\n",
    "\n"
   ]
  },
  {
   "cell_type": "code",
   "execution_count": null,
   "metadata": {},
   "outputs": [],
   "source": [
    "sess =  backend.get_session()\n",
    "backend.set_learning_phase(False)\n",
    "attack_params = {\n",
    "    'eps': 0.4\n",
    "    }\n",
    "\n",
    "def get_adv_exapmles(model, x, sess, attack_params):\n",
    "    wrap = KerasModelWrapper(model)\n",
    "    attack_model = FastGradientMethod(wrap, sess=sess)\n",
    "    x_adv = attack_model.generate_np(x, **attack_params)\n",
    "    return x_adv\n",
    "\n",
    "x_adv_order = get_adv_exapmles(order_model, x_test, sess, attack_params)\n"
   ]
  },
  {
   "cell_type": "code",
   "execution_count": null,
   "metadata": {},
   "outputs": [],
   "source": [
    "def test_model(model, x, y):\n",
    "    pred = np.argmax(model.predict(x), axis = 1)\n",
    "    acc =  np.mean(np.equal(pred.reshape(y.shape), y))\n",
    "    return (pred, acc)\n",
    "\n",
    "x_test_phase = pixel2phase_before(x_test)\n",
    "x_adv_phase = pixel2phase_before(x_adv_order)\n",
    "x_shuffle = permute_pixels(x_test_phase, SECRET_SEED)\n",
    "x_adv_shuffle = permute_pixels(x_adv_phase, SECRET_SEED)\n",
    "\n",
    "pred, acc = test_model(order_model, x_shuffle, y_test)\n",
    "print ('Order changed PPD MLP acc normally', acc)\n",
    "pred, acc = test_model(order_model, x_adv_shuffle, y_test)\n",
    "print ('Order changed PPD MLP acc adv', acc)\n"
   ]
  },
  {
   "cell_type": "markdown",
   "metadata": {},
   "source": [
    "## Apply pixel2phase in hidden"
   ]
  },
  {
   "cell_type": "code",
   "execution_count": null,
   "metadata": {},
   "outputs": [],
   "source": [
    "## Normal PPD MLP   (seed 87)\n",
    "SECRET_SEED = 87\n",
    "\n",
    "x_train_shuffle = permute_pixels(x_train, SECRET_SEED)\n",
    "x_test_shuffle = permute_pixels(x_test, SECRET_SEED)\n",
    "\n",
    "normal_model = get_ppd_model(name=DATASET_NAME, ppd=True)\n",
    "normal_model.summary()\n",
    "normal_model.compile(optimizer='adam',\n",
    "              loss='sparse_categorical_crossentropy',\n",
    "              metrics=['accuracy'])\n",
    "\n",
    "normal_model.fit(x_train_shuffle, y_train, epochs=50, verbose=1, batch_size=128, validation_data=(x_test_shuffle, y_test), callbacks=[earlystop])\n",
    "\n"
   ]
  },
  {
   "cell_type": "code",
   "execution_count": null,
   "metadata": {},
   "outputs": [],
   "source": [
    "def get_ppd_model_hiddenperm(name='mnist', ppd=True, layerno=1):\n",
    "    if name == 'mnist':\n",
    "        input_shape = (28, 28, 1)\n",
    "    else:\n",
    "        input_shape = (32, 32, 3)  # cifar10\n",
    "\n",
    "    def pixel2phase(images):\n",
    "        img_fft = tf.fft(tf.cast(images, tf.complex64))\n",
    "        phase = tf.angle(img_fft)\n",
    "        return phase\n",
    "    \n",
    "    input_tensor = Input(name='input_images', shape=input_shape, dtype='float32')\n",
    "    \n",
    "    \n",
    "    inner = Flatten(name='flatten')(input_tensor)\n",
    "    inner = Dense(800,  name='dense800', kernel_initializer='he_normal', activation='relu')(inner)\n",
    "    \n",
    "    if ppd and layerno==1:\n",
    "        inner = Lambda(pixel2phase, name='pixel2phase')(inner)\n",
    "        #inner = Flatten(name='flatten')(inner)\n",
    "        \n",
    "    inner = Dense(300,  name='dense300', kernel_initializer='he_normal', activation='relu')(inner)\n",
    "    \n",
    "    if ppd and layerno==2:\n",
    "        inner = Lambda(pixel2phase, name='pixel2phase')(inner)\n",
    "    \n",
    "    y_pred = Dense(10,  name='dense10', kernel_initializer='he_normal', activation='softmax')(inner)\n",
    "\n",
    "    return Model(inputs=[input_tensor], outputs=y_pred)\n"
   ]
  },
  {
   "cell_type": "code",
   "execution_count": null,
   "metadata": {},
   "outputs": [],
   "source": [
    "## Phase in layer 1   (seed 87)\n",
    "SECRET_SEED = 87\n",
    "\n",
    "x_train_shuffle = permute_pixels(x_train, SECRET_SEED)\n",
    "x_test_shuffle = permute_pixels(x_test, SECRET_SEED)\n",
    "\n",
    "hidden1_model = get_ppd_model_hiddenperm(name=DATASET_NAME, ppd=True, layerno=2)\n",
    "hidden1_model.summary()\n",
    "hidden1_model.compile(optimizer='adam',\n",
    "              loss='sparse_categorical_crossentropy',\n",
    "              metrics=['accuracy'])\n",
    "\n",
    "hidden1_model.fit(x_train_shuffle, y_train, epochs=50, verbose=1, batch_size=128, validation_data=(x_test_shuffle, y_test), callbacks=[earlystop])\n",
    "\n"
   ]
  },
  {
   "cell_type": "code",
   "execution_count": null,
   "metadata": {},
   "outputs": [],
   "source": [
    "## Phase in layer 2    (seed 87)\n",
    "SECRET_SEED = 87\n",
    "\n",
    "x_train_shuffle = permute_pixels(x_train, SECRET_SEED)\n",
    "x_test_shuffle = permute_pixels(x_test, SECRET_SEED)\n",
    "\n",
    "hidden2_model = get_ppd_model_hiddenperm(name=DATASET_NAME, ppd=True, layerno=2)\n",
    "hidden2_model.summary()\n",
    "hidden2_model.compile(optimizer='adam',\n",
    "              loss='sparse_categorical_crossentropy',\n",
    "              metrics=['accuracy'])\n",
    "\n",
    "hidden2_model.fit(x_train_shuffle, y_train, epochs=50, verbose=1, batch_size=128, validation_data=(x_test_shuffle, y_test), callbacks=[earlystop])\n",
    "\n"
   ]
  },
  {
   "cell_type": "code",
   "execution_count": null,
   "metadata": {},
   "outputs": [],
   "source": [
    "sess =  backend.get_session()\n",
    "backend.set_learning_phase(False)\n",
    "attack_params = {\n",
    "    'eps': 0.4\n",
    "    }\n",
    "\n",
    "def get_adv_exapmles(model, x, sess, attack_params):\n",
    "    wrap = KerasModelWrapper(model)\n",
    "    attack_model = FastGradientMethod(wrap, sess=sess)\n",
    "    x_adv = attack_model.generate_np(x, **attack_params)\n",
    "    return x_adv\n",
    "\n",
    "x_adv_normal = get_adv_exapmles(normal_model, x_test, sess, attack_params)\n",
    "x_adv_hid1 = get_adv_exapmles(hidden1_model, x_test, sess, attack_params)\n",
    "x_adv_hid2 = get_adv_exapmles(hidden2_model, x_test, sess, attack_params)\n"
   ]
  },
  {
   "cell_type": "code",
   "execution_count": null,
   "metadata": {},
   "outputs": [],
   "source": [
    "def test_model(model, x, y):\n",
    "    pred = np.argmax(model.predict(x), axis = 1)\n",
    "    acc =  np.mean(np.equal(pred.reshape(y.shape), y))\n",
    "    return (pred, acc)\n",
    "\n",
    "\n",
    "x_shuffle = permute_pixels(x_test, SECRET_SEED)\n",
    "x_adv_shuffle_n = permute_pixels(x_adv_normal, SECRET_SEED)\n",
    "\n",
    "pred, acc = test_model(normal_model, x_shuffle, y_test)\n",
    "print ('Normal PPD MLP acc normally', acc)\n",
    "pred, acc = test_model(normal_model, x_adv_shuffle_n, y_test)\n",
    "print ('Normal PPD MLP acc adv', acc)\n",
    "\n",
    "\n",
    "\n",
    "\n",
    "x_shuffle = permute_pixels(x_test, SECRET_SEED)\n",
    "x_adv_shuffle_1 = permute_pixels(x_adv_hid1, SECRET_SEED)\n",
    "\n",
    "pred, acc = test_model(hidden1_model, x_shuffle, y_test)\n",
    "print ('Phase in layer 1 PPD MLP acc normally', acc)\n",
    "pred, acc = test_model(hidden1_model, x_adv_shuffle_1, y_test)\n",
    "print ('Phase in layer 1 PPD MLP acc adv', acc)\n",
    "\n",
    "\n",
    "x_shuffle = permute_pixels(x_test, SECRET_SEED)\n",
    "x_adv_shuffle_2 = permute_pixels(x_adv_hid2, SECRET_SEED)\n",
    "\n",
    "pred, acc = test_model(hidden2_model, x_shuffle, y_test)\n",
    "print ('Phase in layer 2 PPD MLP acc normally', acc)\n",
    "pred, acc = test_model(hidden2_model, x_adv_shuffle_2, y_test)\n",
    "print ('Phase in layer 2 PPD MLP acc adv', acc)\n",
    "\n"
   ]
  },
  {
   "cell_type": "code",
   "execution_count": null,
   "metadata": {},
   "outputs": [],
   "source": []
  },
  {
   "cell_type": "markdown",
   "metadata": {},
   "source": [
    "## In CNNs: Apply pixel2phase in hidden\n",
    "For mnist: 0 <= layerno <= 3\n",
    "\n",
    "For cifar: 0 <= layerno <= 5\n",
    "\n",
    "layerno=0 is the default ppd + cnn"
   ]
  },
  {
   "cell_type": "code",
   "execution_count": 1,
   "metadata": {},
   "outputs": [
    {
     "name": "stderr",
     "output_type": "stream",
     "text": [
      "/usr/local/Cellar/python/3.6.5/Frameworks/Python.framework/Versions/3.6/lib/python3.6/importlib/_bootstrap.py:219: RuntimeWarning: compiletime version 3.5 of module 'tensorflow.python.framework.fast_tensor_util' does not match runtime version 3.6\n",
      "  return f(*args, **kwds)\n",
      "Using TensorFlow backend.\n"
     ]
    },
    {
     "name": "stdout",
     "output_type": "stream",
     "text": [
      "x_train shape (50000, 32, 32, 3)\n",
      "y_train shape (50000, 1)\n",
      "x_test shape (10000, 32, 32, 3)\n",
      "y_test shape (10000, 1)\n"
     ]
    },
    {
     "ename": "TypeError",
     "evalue": "__init__() got an unexpected keyword argument 'restore_best_weights'",
     "output_type": "error",
     "traceback": [
      "\u001b[0;31m---------------------------------------------------------------------------\u001b[0m",
      "\u001b[0;31mTypeError\u001b[0m                                 Traceback (most recent call last)",
      "\u001b[0;32m<ipython-input-1-c0540d452265>\u001b[0m in \u001b[0;36m<module>\u001b[0;34m\u001b[0m\n\u001b[1;32m     13\u001b[0m \u001b[0mDATASET_NAME\u001b[0m \u001b[0;34m=\u001b[0m \u001b[0;34m'cifar10'\u001b[0m\u001b[0;34m\u001b[0m\u001b[0m\n\u001b[1;32m     14\u001b[0m \u001b[0;34m(\u001b[0m\u001b[0mx_train\u001b[0m\u001b[0;34m,\u001b[0m \u001b[0my_train\u001b[0m\u001b[0;34m,\u001b[0m \u001b[0mx_test\u001b[0m\u001b[0;34m,\u001b[0m \u001b[0my_test\u001b[0m\u001b[0;34m)\u001b[0m \u001b[0;34m=\u001b[0m \u001b[0mget_dataset\u001b[0m\u001b[0;34m(\u001b[0m\u001b[0mDATASET_NAME\u001b[0m\u001b[0;34m)\u001b[0m\u001b[0;34m\u001b[0m\u001b[0m\n\u001b[0;32m---> 15\u001b[0;31m \u001b[0mearlystop\u001b[0m \u001b[0;34m=\u001b[0m \u001b[0mEarlyStopping\u001b[0m\u001b[0;34m(\u001b[0m\u001b[0mmonitor\u001b[0m\u001b[0;34m=\u001b[0m\u001b[0;34m'val_loss'\u001b[0m\u001b[0;34m,\u001b[0m \u001b[0mpatience\u001b[0m\u001b[0;34m=\u001b[0m\u001b[0;36m0\u001b[0m\u001b[0;34m,\u001b[0m \u001b[0mrestore_best_weights\u001b[0m\u001b[0;34m=\u001b[0m\u001b[0;32mTrue\u001b[0m\u001b[0;34m)\u001b[0m\u001b[0;34m\u001b[0m\u001b[0m\n\u001b[0m\u001b[1;32m     16\u001b[0m \u001b[0mBATCH_SIZE\u001b[0m \u001b[0;34m=\u001b[0m \u001b[0;36m128\u001b[0m\u001b[0;34m\u001b[0m\u001b[0m\n\u001b[1;32m     17\u001b[0m \u001b[0mEPOCHS\u001b[0m \u001b[0;34m=\u001b[0m \u001b[0;36m50\u001b[0m\u001b[0;34m\u001b[0m\u001b[0m\n",
      "\u001b[0;31mTypeError\u001b[0m: __init__() got an unexpected keyword argument 'restore_best_weights'"
     ]
    }
   ],
   "source": [
    "import numpy as np\n",
    "import tensorflow as tf\n",
    "import matplotlib.pyplot as plt\n",
    "from utils import *\n",
    "from sklearn.metrics import roc_curve\n",
    "from keras.callbacks import EarlyStopping\n",
    "from keras import backend\n",
    "from cleverhans.attacks import FastGradientMethod\n",
    "from cleverhans.utils_keras import KerasModelWrapper\n",
    "import matplotlib as mpl\n",
    "from keras.models import load_model\n",
    "\n",
    "DATASET_NAME = 'cifar10'\n",
    "(x_train, y_train, x_test, y_test) = get_dataset(DATASET_NAME) \n",
    "earlystop = EarlyStopping(monitor='val_loss', patience=0, restore_best_weights=True)\n",
    "BATCH_SIZE = 128\n",
    "EPOCHS = 50"
   ]
  },
  {
   "cell_type": "code",
   "execution_count": null,
   "metadata": {},
   "outputs": [],
   "source": [
    "## JUST CNN\n",
    "\n",
    "cnn_model = get_cnn_model(name=DATASET_NAME, ppd=False)\n",
    "cnn_model.summary()\n",
    "cnn_model.compile(optimizer='adam',\n",
    "              loss='sparse_categorical_crossentropy',\n",
    "              metrics=['accuracy'])\n",
    "\n",
    "cnn_model.fit(x_train, y_train, epochs=EPOCHS, verbose=1, batch_size=BATCH_SIZE, validation_data=(x_test, y_test), callbacks=[earlystop])\n",
    "cnn_model.save('cnn_model_'+DATASET_NAME+'.hdf5')\n"
   ]
  },
  {
   "cell_type": "code",
   "execution_count": null,
   "metadata": {},
   "outputs": [],
   "source": [
    "## CNN + PPD, SEED 87\n",
    "\n",
    "SECRET_SEED = 87\n",
    "#x_train_shuffle = permute_pixels(x_train, SECRET_SEED)\n",
    "#x_test_shuffle = permute_pixels(x_test, SECRET_SEED)\n",
    "x_train_shuffle = x_train\n",
    "x_test_shuffle = x_test\n",
    "\n",
    "ppd_cnn_model = get_cnn_model(name=DATASET_NAME, ppd=True)\n",
    "ppd_cnn_model.summary()\n",
    "ppd_cnn_model.compile(optimizer='adam',\n",
    "              loss='sparse_categorical_crossentropy',\n",
    "              metrics=['accuracy'])\n",
    "\n",
    "ppd_cnn_model.fit(x_train_shuffle, y_train, epochs=EPOCHS, verbose=1, batch_size=BATCH_SIZE, validation_data=(x_test_shuffle, y_test), callbacks=[earlystop])\n",
    "ppd_cnn_model.save('ppd_cnn_model_noperm_'+DATASET_NAME+'.hdf5')\n"
   ]
  },
  {
   "cell_type": "code",
   "execution_count": null,
   "metadata": {
    "scrolled": false
   },
   "outputs": [],
   "source": [
    "SECRET_SEED = 87\n",
    "#x_train_shuffle = permute_pixels(x_train, SECRET_SEED)\n",
    "#x_test_shuffle = permute_pixels(x_test, SECRET_SEED)\n",
    "x_train_shuffle = x_train\n",
    "x_test_shuffle = x_test\n",
    "\n",
    "for idx in range(1,6):\n",
    "    ppd_cnn_model = get_cnn_model(name=DATASET_NAME, ppd=True, layerno=idx)\n",
    "    ppd_cnn_model.summary()\n",
    "    ppd_cnn_model.compile(optimizer='adam',\n",
    "              loss='sparse_categorical_crossentropy',\n",
    "              metrics=['accuracy'])\n",
    "\n",
    "    ppd_cnn_model.fit(x_train_shuffle, y_train, epochs=EPOCHS, verbose=1, batch_size=BATCH_SIZE, validation_data=(x_test_shuffle, y_test), \n",
    "                          callbacks=[earlystop, noNaN, ModelCheckpoint('ppd_cnn_model'+str(idx)+'_noperm_'+DATASET_NAME+'.hdf5', save_best_only=True)])\n",
    "    \n"
   ]
  },
  {
   "cell_type": "code",
   "execution_count": null,
   "metadata": {},
   "outputs": [],
   "source": []
  },
  {
   "cell_type": "code",
   "execution_count": 11,
   "metadata": {},
   "outputs": [],
   "source": [
    "cnn_model = load_model('models/cnn_model_'+DATASET_NAME+'.hdf5', custom_objects={'tf':tf})\n",
    "ppd_cnn_model = load_model('models/ppd_cnn_model_noperm_'+DATASET_NAME+'.hdf5', custom_objects={'tf':tf})\n",
    "ppd_cnn_model1 = load_model('models/ppd_cnn_model1_noperm_'+DATASET_NAME+'.hdf5', custom_objects={'tf':tf})\n",
    "ppd_cnn_model2 = load_model('models/ppd_cnn_model2_noperm_'+DATASET_NAME+'.hdf5', custom_objects={'tf':tf})\n",
    "ppd_cnn_model3 = load_model('models/ppd_cnn_model3_noperm_'+DATASET_NAME+'.hdf5', custom_objects={'tf':tf})\n",
    "ppd_cnn_model4 = load_model('models/ppd_cnn_model4_noperm_'+DATASET_NAME+'.hdf5', custom_objects={'tf':tf})\n",
    "ppd_cnn_model5 = load_model('models/ppd_cnn_model5_noperm_'+DATASET_NAME+'.hdf5', custom_objects={'tf':tf})"
   ]
  },
  {
   "cell_type": "code",
   "execution_count": 9,
   "metadata": {},
   "outputs": [
    {
     "name": "stdout",
     "output_type": "stream",
     "text": [
      "0\n"
     ]
    }
   ],
   "source": [
    "## Get adv from CNN, CNN+PPD (87), CNN + Phase, CNN + Perm (87)\n",
    "backend.set_learning_phase(0)\n",
    "sess =  backend.get_session()\n",
    "print(backend.learning_phase())\n",
    "attack_params = {\n",
    "    'eps': 0.4\n",
    "    }\n",
    "\n",
    "def get_adv_exapmles(model, x, sess, attack_params):\n",
    "    wrap = KerasModelWrapper(model)\n",
    "    attack_model = FastGradientMethod(wrap, sess=sess)\n",
    "    x_adv = attack_model.generate_np(x, **attack_params)\n",
    "    return x_adv\n",
    "\n",
    "#x_adv_cnn = get_adv_exapmles(cnn_model, x_test, sess, attack_params)\n",
    "#x_adv_ppd = get_adv_exapmles(ppd_cnn_model, x_test, sess, attack_params)\n",
    "\n",
    "x_adv_ppd1 = get_adv_exapmles(ppd_cnn_model1, x_test, sess, attack_params)\n",
    "#x_adv_ppd2 = get_adv_exapmles(ppd_cnn_model2, x_test, sess, attack_params)\n",
    "#x_adv_ppd3 = get_adv_exapmles(ppd_cnn_model3, x_test, sess, attack_params)\n",
    "#x_adv_ppd4 = get_adv_exapmles(ppd_cnn_model4, x_test, sess, attack_params)\n",
    "#x_adv_ppd5 = get_adv_exapmles(ppd_cnn_model5, x_test, sess, attack_params)\n"
   ]
  },
  {
   "cell_type": "code",
   "execution_count": 12,
   "metadata": {},
   "outputs": [
    {
     "name": "stdout",
     "output_type": "stream",
     "text": [
      "CNN acc normally 0.793\n",
      "CNN acc adv 0.136\n",
      "PPD CNN acc normally 0.5536\n",
      "PPD CNN acc adv 0.214\n",
      "PPD CNN phase_hidden =  1  acc  0.1\n",
      "PPD CNN phase_hidden =  1  acc adv 0.1\n",
      "PPD CNN phase_hidden =  2  acc  0.6307\n",
      "PPD CNN phase_hidden =  2  acc adv 0.0862\n",
      "PPD CNN phase_hidden =  3  acc  0.1883\n",
      "PPD CNN phase_hidden =  3  acc adv 0.1245\n",
      "PPD CNN phase_hidden =  4  acc  0.5812\n",
      "PPD CNN phase_hidden =  4  acc adv 0.0708\n",
      "PPD CNN phase_hidden =  5  acc  0.7378\n",
      "PPD CNN phase_hidden =  5  acc adv 0.13\n"
     ]
    }
   ],
   "source": [
    "## Test cnn_adv on cnn, test cnn+ppd (87) adv on cnn+ppd (87) and cnn+ppd (23)\n",
    "\n",
    "def test_model(model, x, y):\n",
    "    pred = np.argmax(model.predict(x), axis = 1)\n",
    "    acc =  np.mean(np.equal(pred.reshape(y.shape), y))\n",
    "    return (pred, acc)\n",
    "\n",
    "# x_shuffle = permute_pixels(x_test, SECRET_SEED)\n",
    "x_shuffle = x_test\n",
    "\n",
    "pred, acc = test_model(cnn_model, x_test, y_test)\n",
    "print ('CNN acc normally', acc)\n",
    "pred, acc = test_model(cnn_model, x_adv_cnn, y_test)\n",
    "print ('CNN acc adv', acc)\n",
    "\n",
    "# x_adv_shuffle = permute_pixels(x_adv_ppd, SECRET_SEED)\n",
    "x_adv_shuffle = x_adv_ppd\n",
    "\n",
    "pred, acc = test_model(ppd_cnn_model, x_shuffle, y_test)\n",
    "print ('PPD CNN acc normally', acc)\n",
    "pred, acc = test_model(ppd_cnn_model, x_adv_shuffle, y_test)\n",
    "print ('PPD CNN acc adv', acc)\n",
    "\n",
    "\n",
    "\n",
    "# ## hidden phase\n",
    "x_adv = [x_adv_ppd1, x_adv_ppd2, x_adv_ppd3, x_adv_ppd4, x_adv_ppd5]\n",
    "ppd_cnn_models = [ppd_cnn_model1, ppd_cnn_model2, ppd_cnn_model3, ppd_cnn_model4, ppd_cnn_model5]\n",
    "for idx in range(1, 6):\n",
    "    pred, acc = test_model(ppd_cnn_models[idx-1], x_shuffle, y_test)\n",
    "    print ('PPD CNN phase_hidden = ', str(idx), ' acc ', acc)\n",
    "    \n",
    "    # x_adv_shuffle = permute_pixels(x_adv[idx-1], SECRET_SEED)\n",
    "    x_adv_shuffle = x_adv[idx-1]\n",
    "    pred, acc = test_model(ppd_cnn_models[idx-1], x_adv_shuffle, y_test)\n",
    "    print ('PPD CNN phase_hidden = ', str(idx), ' acc adv', acc) "
   ]
  },
  {
   "cell_type": "code",
   "execution_count": null,
   "metadata": {},
   "outputs": [],
   "source": [
    "print(ppd_cnn_model1.predict(x_shuffle)[0])"
   ]
  },
  {
   "cell_type": "code",
   "execution_count": null,
   "metadata": {},
   "outputs": [],
   "source": [
    "print(ppd_cnn_model1.layers[-13].get_weights())"
   ]
  },
  {
   "cell_type": "code",
   "execution_count": null,
   "metadata": {},
   "outputs": [],
   "source": []
  }
 ],
 "metadata": {
  "kernelspec": {
   "display_name": "Python 3",
   "language": "python",
   "name": "python3"
  },
  "language_info": {
   "codemirror_mode": {
    "name": "ipython",
    "version": 3
   },
   "file_extension": ".py",
   "mimetype": "text/x-python",
   "name": "python",
   "nbconvert_exporter": "python",
   "pygments_lexer": "ipython3",
   "version": "3.6.5"
  }
 },
 "nbformat": 4,
 "nbformat_minor": 2
}
