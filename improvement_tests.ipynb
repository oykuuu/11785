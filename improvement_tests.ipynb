{
 "cells": [
  {
   "cell_type": "code",
   "execution_count": 20,
   "metadata": {},
   "outputs": [
    {
     "name": "stdout",
     "output_type": "stream",
     "text": [
      "Downloading data from https://www.cs.toronto.edu/~kriz/cifar-10-python.tar.gz\n",
      "170500096/170498071 [==============================] - 37s 0us/step\n",
      "x_train shape (50000, 32, 32, 3)\n",
      "y_train shape (50000, 1)\n",
      "x_test shape (10000, 32, 32, 3)\n",
      "y_test shape (10000, 1)\n"
     ]
    }
   ],
   "source": [
    "import numpy as np\n",
    "import tensorflow as tf\n",
    "import matplotlib.pyplot as plt\n",
    "from utils import *\n",
    "from sklearn.metrics import roc_curve\n",
    "from keras.callbacks import EarlyStopping\n",
    "from keras import backend\n",
    "from cleverhans.attacks import FastGradientMethod\n",
    "from cleverhans.utils_keras import KerasModelWrapper\n",
    "import matplotlib as mpl\n",
    "from keras.models import load_model\n",
    "\n",
    "DATASET_NAME = 'cifar10'\n",
    "(x_train, y_train, x_test, y_test) = get_dataset(DATASET_NAME)"
   ]
  },
  {
   "cell_type": "code",
   "execution_count": 21,
   "metadata": {},
   "outputs": [],
   "source": [
    "def pixel2phase_before(images):\n",
    "    img_fft = np.fft.fft2(images)\n",
    "    phase = np.angle(img_fft)\n",
    "    return phase"
   ]
  },
  {
   "cell_type": "code",
   "execution_count": 22,
   "metadata": {},
   "outputs": [
    {
     "name": "stdout",
     "output_type": "stream",
     "text": [
      "_________________________________________________________________\n",
      "Layer (type)                 Output Shape              Param #   \n",
      "=================================================================\n",
      "input_images (InputLayer)    (None, 32, 32, 3)         0         \n",
      "_________________________________________________________________\n",
      "flatten (Flatten)            (None, 3072)              0         \n",
      "_________________________________________________________________\n",
      "dense800 (Dense)             (None, 800)               2458400   \n",
      "_________________________________________________________________\n",
      "dense300 (Dense)             (None, 300)               240300    \n",
      "_________________________________________________________________\n",
      "dense10 (Dense)              (None, 10)                3010      \n",
      "=================================================================\n",
      "Total params: 2,701,710\n",
      "Trainable params: 2,701,710\n",
      "Non-trainable params: 0\n",
      "_________________________________________________________________\n",
      "Train on 50000 samples, validate on 10000 samples\n",
      "Epoch 1/50\n",
      "50000/50000 [==============================] - 4s 73us/step - loss: 2.1450 - acc: 0.2346 - val_loss: 2.0083 - val_acc: 0.2657\n",
      "Epoch 2/50\n",
      "50000/50000 [==============================] - 3s 60us/step - loss: 1.7720 - acc: 0.3662 - val_loss: 2.0325 - val_acc: 0.2670\n",
      "Epoch 3/50\n",
      "50000/50000 [==============================] - 3s 60us/step - loss: 1.4185 - acc: 0.4990 - val_loss: 2.2248 - val_acc: 0.2652\n"
     ]
    },
    {
     "data": {
      "text/plain": [
       "<keras.callbacks.History at 0x7f9b5d925320>"
      ]
     },
     "execution_count": 22,
     "metadata": {},
     "output_type": "execute_result"
    }
   ],
   "source": [
    "## Phase before Permutation + MLP   (seed 87)\n",
    "SECRET_SEED = 87\n",
    "\n",
    "x_train_phase = pixel2phase_before(x_train)\n",
    "x_test_phase = pixel2phase_before(x_test)\n",
    "x_train_shuffle = permute_pixels(x_train_phase, SECRET_SEED)\n",
    "x_test_shuffle = permute_pixels(x_test_phase, SECRET_SEED)\n",
    "\n",
    "order_model = get_ppd_model(name=DATASET_NAME, ppd=False)\n",
    "order_model.summary()\n",
    "order_model.compile(optimizer='adam',\n",
    "              loss='sparse_categorical_crossentropy',\n",
    "              metrics=['accuracy'])\n",
    "\n",
    "order_model.fit(x_train_shuffle, y_train, epochs=50, verbose=1, batch_size=128, validation_data=(x_test_shuffle, y_test), callbacks=[EarlyStopping(monitor='val_loss', patience=2)])\n",
    "\n"
   ]
  },
  {
   "cell_type": "code",
   "execution_count": 23,
   "metadata": {},
   "outputs": [
    {
     "name": "stderr",
     "output_type": "stream",
     "text": [
      "[INFO 2018-12-03 20:28:28,391 cleverhans] Constructing new graph for attack FastGradientMethod\n"
     ]
    }
   ],
   "source": [
    "sess =  backend.get_session()\n",
    "backend.set_learning_phase(False)\n",
    "attack_params = {\n",
    "    'eps': 0.4\n",
    "    }\n",
    "\n",
    "def get_adv_exapmles(model, x, sess, attack_params):\n",
    "    wrap = KerasModelWrapper(model)\n",
    "    attack_model = FastGradientMethod(wrap, sess=sess)\n",
    "    x_adv = attack_model.generate_np(x, **attack_params)\n",
    "    return x_adv\n",
    "\n",
    "x_adv_order = get_adv_exapmles(order_model, x_test, sess, attack_params)\n"
   ]
  },
  {
   "cell_type": "code",
   "execution_count": 24,
   "metadata": {},
   "outputs": [
    {
     "name": "stdout",
     "output_type": "stream",
     "text": [
      "Order changed PPD MLP acc normally 0.2652\n",
      "Order changed PPD MLP acc adv 0.1624\n"
     ]
    }
   ],
   "source": [
    "def test_model(model, x, y):\n",
    "    pred = np.argmax(model.predict(x), axis = 1)\n",
    "    acc =  np.mean(np.equal(pred.reshape(y.shape), y))\n",
    "    return (pred, acc)\n",
    "\n",
    "x_test_phase = pixel2phase_before(x_test)\n",
    "x_adv_phase = pixel2phase_before(x_adv_order)\n",
    "x_shuffle = permute_pixels(x_test_phase, SECRET_SEED)\n",
    "x_adv_shuffle = permute_pixels(x_adv_phase, SECRET_SEED)\n",
    "\n",
    "pred, acc = test_model(order_model, x_shuffle, y_test)\n",
    "print ('Order changed PPD MLP acc normally', acc)\n",
    "pred, acc = test_model(order_model, x_adv_shuffle, y_test)\n",
    "print ('Order changed PPD MLP acc adv', acc)\n"
   ]
  },
  {
   "cell_type": "markdown",
   "metadata": {},
   "source": [
    "## Apply pixel2phase in hidden"
   ]
  },
  {
   "cell_type": "code",
   "execution_count": 25,
   "metadata": {},
   "outputs": [
    {
     "name": "stdout",
     "output_type": "stream",
     "text": [
      "_________________________________________________________________\n",
      "Layer (type)                 Output Shape              Param #   \n",
      "=================================================================\n",
      "input_images (InputLayer)    (None, 32, 32, 3)         0         \n",
      "_________________________________________________________________\n",
      "pixel2phase (Lambda)         (None, 32, 32, 3)         0         \n",
      "_________________________________________________________________\n",
      "flatten (Flatten)            (None, 3072)              0         \n",
      "_________________________________________________________________\n",
      "dense800 (Dense)             (None, 800)               2458400   \n",
      "_________________________________________________________________\n",
      "dense300 (Dense)             (None, 300)               240300    \n",
      "_________________________________________________________________\n",
      "dense10 (Dense)              (None, 10)                3010      \n",
      "=================================================================\n",
      "Total params: 2,701,710\n",
      "Trainable params: 2,701,710\n",
      "Non-trainable params: 0\n",
      "_________________________________________________________________\n",
      "Train on 50000 samples, validate on 10000 samples\n",
      "Epoch 1/50\n",
      "50000/50000 [==============================] - 5s 102us/step - loss: 1.7502 - acc: 0.4031 - val_loss: 1.5844 - val_acc: 0.4399\n",
      "Epoch 2/50\n",
      "50000/50000 [==============================] - 5s 91us/step - loss: 1.2729 - acc: 0.5562 - val_loss: 1.5654 - val_acc: 0.4591\n",
      "Epoch 3/50\n",
      "50000/50000 [==============================] - 5s 91us/step - loss: 0.9155 - acc: 0.6809 - val_loss: 1.7232 - val_acc: 0.4559\n",
      "Epoch 4/50\n",
      "50000/50000 [==============================] - 5s 90us/step - loss: 0.5885 - acc: 0.7969 - val_loss: 2.0024 - val_acc: 0.4460\n"
     ]
    },
    {
     "data": {
      "text/plain": [
       "<keras.callbacks.History at 0x7f9b793722b0>"
      ]
     },
     "execution_count": 25,
     "metadata": {},
     "output_type": "execute_result"
    }
   ],
   "source": [
    "## Normal PPD MLP   (seed 87)\n",
    "SECRET_SEED = 87\n",
    "\n",
    "x_train_shuffle = permute_pixels(x_train, SECRET_SEED)\n",
    "x_test_shuffle = permute_pixels(x_test, SECRET_SEED)\n",
    "\n",
    "normal_model = get_ppd_model(name=DATASET_NAME, ppd=True)\n",
    "normal_model.summary()\n",
    "normal_model.compile(optimizer='adam',\n",
    "              loss='sparse_categorical_crossentropy',\n",
    "              metrics=['accuracy'])\n",
    "\n",
    "normal_model.fit(x_train_shuffle, y_train, epochs=50, verbose=1, batch_size=128, validation_data=(x_test_shuffle, y_test), callbacks=[EarlyStopping(monitor='val_loss', patience=2)])\n",
    "\n"
   ]
  },
  {
   "cell_type": "code",
   "execution_count": 26,
   "metadata": {},
   "outputs": [],
   "source": [
    "def get_ppd_model_hiddenperm(name='mnist', ppd=True, layerno=1):\n",
    "    if name == 'mnist':\n",
    "        input_shape = (28, 28, 1)\n",
    "    else:\n",
    "        input_shape = (32, 32, 3)  # cifar10\n",
    "\n",
    "    def pixel2phase(images):\n",
    "        img_fft = tf.fft(tf.cast(images, tf.complex64))\n",
    "        phase = tf.angle(img_fft)\n",
    "        return phase\n",
    "    \n",
    "    input_tensor = Input(name='input_images', shape=input_shape, dtype='float32')\n",
    "    \n",
    "    \n",
    "    inner = Flatten(name='flatten')(input_tensor)\n",
    "    inner = Dense(800,  name='dense800', kernel_initializer='he_normal', activation='relu')(inner)\n",
    "    \n",
    "    if ppd and layerno==1:\n",
    "        inner = Lambda(pixel2phase, name='pixel2phase')(inner)\n",
    "        #inner = Flatten(name='flatten')(inner)\n",
    "        \n",
    "    inner = Dense(300,  name='dense300', kernel_initializer='he_normal', activation='relu')(inner)\n",
    "    \n",
    "    if ppd and layerno==2:\n",
    "        inner = Lambda(pixel2phase, name='pixel2phase')(inner)\n",
    "    \n",
    "    y_pred = Dense(10,  name='dense10', kernel_initializer='he_normal', activation='softmax')(inner)\n",
    "\n",
    "    return Model(inputs=[input_tensor], outputs=y_pred)\n"
   ]
  },
  {
   "cell_type": "code",
   "execution_count": 27,
   "metadata": {},
   "outputs": [
    {
     "name": "stdout",
     "output_type": "stream",
     "text": [
      "_________________________________________________________________\n",
      "Layer (type)                 Output Shape              Param #   \n",
      "=================================================================\n",
      "input_images (InputLayer)    (None, 32, 32, 3)         0         \n",
      "_________________________________________________________________\n",
      "flatten (Flatten)            (None, 3072)              0         \n",
      "_________________________________________________________________\n",
      "dense800 (Dense)             (None, 800)               2458400   \n",
      "_________________________________________________________________\n",
      "dense300 (Dense)             (None, 300)               240300    \n",
      "_________________________________________________________________\n",
      "pixel2phase (Lambda)         (None, 300)               0         \n",
      "_________________________________________________________________\n",
      "dense10 (Dense)              (None, 10)                3010      \n",
      "=================================================================\n",
      "Total params: 2,701,710\n",
      "Trainable params: 2,701,710\n",
      "Non-trainable params: 0\n",
      "_________________________________________________________________\n",
      "Train on 50000 samples, validate on 10000 samples\n",
      "Epoch 1/50\n",
      "50000/50000 [==============================] - 5s 97us/step - loss: 2.1194 - acc: 0.2267 - val_loss: 1.8881 - val_acc: 0.3176\n",
      "Epoch 2/50\n",
      "50000/50000 [==============================] - 4s 87us/step - loss: 1.7988 - acc: 0.3547 - val_loss: 1.7381 - val_acc: 0.3802\n",
      "Epoch 3/50\n",
      "50000/50000 [==============================] - 4s 87us/step - loss: 1.6796 - acc: 0.3969 - val_loss: 1.6251 - val_acc: 0.4202\n",
      "Epoch 4/50\n",
      "50000/50000 [==============================] - 4s 87us/step - loss: 1.5827 - acc: 0.4323 - val_loss: 1.5642 - val_acc: 0.4492\n",
      "Epoch 5/50\n",
      "50000/50000 [==============================] - 4s 87us/step - loss: 1.5287 - acc: 0.4528 - val_loss: 1.5748 - val_acc: 0.4400\n",
      "Epoch 6/50\n",
      "50000/50000 [==============================] - 4s 87us/step - loss: 1.4809 - acc: 0.4698 - val_loss: 1.5469 - val_acc: 0.4408\n",
      "Epoch 7/50\n",
      "50000/50000 [==============================] - 4s 87us/step - loss: 1.4463 - acc: 0.4815 - val_loss: 1.4900 - val_acc: 0.4642\n",
      "Epoch 8/50\n",
      "50000/50000 [==============================] - 4s 87us/step - loss: 1.4158 - acc: 0.4909 - val_loss: 1.4543 - val_acc: 0.4781\n",
      "Epoch 9/50\n",
      "50000/50000 [==============================] - 4s 88us/step - loss: 1.3876 - acc: 0.5055 - val_loss: 1.4269 - val_acc: 0.4932\n",
      "Epoch 10/50\n",
      "50000/50000 [==============================] - 4s 87us/step - loss: 1.3618 - acc: 0.5127 - val_loss: 1.4875 - val_acc: 0.4713\n",
      "Epoch 11/50\n",
      "50000/50000 [==============================] - 4s 88us/step - loss: 1.3522 - acc: 0.5177 - val_loss: 1.3941 - val_acc: 0.5017\n",
      "Epoch 12/50\n",
      "50000/50000 [==============================] - 4s 87us/step - loss: 1.3162 - acc: 0.5289 - val_loss: 1.4024 - val_acc: 0.5030\n",
      "Epoch 13/50\n",
      "50000/50000 [==============================] - 4s 88us/step - loss: 1.2961 - acc: 0.5348 - val_loss: 1.4233 - val_acc: 0.4917\n"
     ]
    },
    {
     "data": {
      "text/plain": [
       "<keras.callbacks.History at 0x7f9b78ecea58>"
      ]
     },
     "execution_count": 27,
     "metadata": {},
     "output_type": "execute_result"
    }
   ],
   "source": [
    "## Phase in layer 1   (seed 87)\n",
    "SECRET_SEED = 87\n",
    "\n",
    "x_train_shuffle = permute_pixels(x_train, SECRET_SEED)\n",
    "x_test_shuffle = permute_pixels(x_test, SECRET_SEED)\n",
    "\n",
    "hidden1_model = get_ppd_model_hiddenperm(name=DATASET_NAME, ppd=True, layerno=2)\n",
    "hidden1_model.summary()\n",
    "hidden1_model.compile(optimizer='adam',\n",
    "              loss='sparse_categorical_crossentropy',\n",
    "              metrics=['accuracy'])\n",
    "\n",
    "hidden1_model.fit(x_train_shuffle, y_train, epochs=50, verbose=1, batch_size=128, validation_data=(x_test_shuffle, y_test), callbacks=[EarlyStopping(monitor='val_loss', patience=2)])\n",
    "\n"
   ]
  },
  {
   "cell_type": "code",
   "execution_count": 28,
   "metadata": {},
   "outputs": [
    {
     "name": "stdout",
     "output_type": "stream",
     "text": [
      "_________________________________________________________________\n",
      "Layer (type)                 Output Shape              Param #   \n",
      "=================================================================\n",
      "input_images (InputLayer)    (None, 32, 32, 3)         0         \n",
      "_________________________________________________________________\n",
      "flatten (Flatten)            (None, 3072)              0         \n",
      "_________________________________________________________________\n",
      "dense800 (Dense)             (None, 800)               2458400   \n",
      "_________________________________________________________________\n",
      "dense300 (Dense)             (None, 300)               240300    \n",
      "_________________________________________________________________\n",
      "pixel2phase (Lambda)         (None, 300)               0         \n",
      "_________________________________________________________________\n",
      "dense10 (Dense)              (None, 10)                3010      \n",
      "=================================================================\n",
      "Total params: 2,701,710\n",
      "Trainable params: 2,701,710\n",
      "Non-trainable params: 0\n",
      "_________________________________________________________________\n",
      "Train on 50000 samples, validate on 10000 samples\n",
      "Epoch 1/50\n",
      "50000/50000 [==============================] - 5s 98us/step - loss: 2.1549 - acc: 0.2104 - val_loss: 1.9714 - val_acc: 0.2798\n",
      "Epoch 2/50\n",
      "50000/50000 [==============================] - 4s 87us/step - loss: 1.8311 - acc: 0.3385 - val_loss: 1.7370 - val_acc: 0.3733\n",
      "Epoch 3/50\n",
      "50000/50000 [==============================] - 4s 87us/step - loss: 1.6846 - acc: 0.3939 - val_loss: 1.6150 - val_acc: 0.4272\n",
      "Epoch 4/50\n",
      "50000/50000 [==============================] - 4s 87us/step - loss: 1.5963 - acc: 0.4274 - val_loss: 1.5994 - val_acc: 0.4360\n",
      "Epoch 5/50\n",
      "50000/50000 [==============================] - 4s 87us/step - loss: 1.5401 - acc: 0.4507 - val_loss: 1.5781 - val_acc: 0.4423\n",
      "Epoch 6/50\n",
      "50000/50000 [==============================] - 4s 88us/step - loss: 1.4959 - acc: 0.4635 - val_loss: 1.5481 - val_acc: 0.4538\n",
      "Epoch 7/50\n",
      "50000/50000 [==============================] - 4s 87us/step - loss: 1.4626 - acc: 0.4762 - val_loss: 1.5070 - val_acc: 0.4578\n",
      "Epoch 8/50\n",
      "50000/50000 [==============================] - 4s 87us/step - loss: 1.4301 - acc: 0.4870 - val_loss: 1.4692 - val_acc: 0.4737\n",
      "Epoch 9/50\n",
      "50000/50000 [==============================] - 4s 87us/step - loss: 1.3986 - acc: 0.4984 - val_loss: 1.4265 - val_acc: 0.4943\n",
      "Epoch 10/50\n",
      "50000/50000 [==============================] - 4s 88us/step - loss: 1.3802 - acc: 0.5049 - val_loss: 1.4372 - val_acc: 0.4923\n",
      "Epoch 11/50\n",
      "50000/50000 [==============================] - 4s 87us/step - loss: 1.3595 - acc: 0.5160 - val_loss: 1.4087 - val_acc: 0.5019\n",
      "Epoch 12/50\n",
      "50000/50000 [==============================] - 4s 87us/step - loss: 1.3305 - acc: 0.5248 - val_loss: 1.4062 - val_acc: 0.5044\n",
      "Epoch 13/50\n",
      "50000/50000 [==============================] - 4s 87us/step - loss: 1.3130 - acc: 0.5285 - val_loss: 1.3894 - val_acc: 0.5068\n",
      "Epoch 14/50\n",
      "50000/50000 [==============================] - 4s 88us/step - loss: 1.2877 - acc: 0.5379 - val_loss: 1.3902 - val_acc: 0.5090\n",
      "Epoch 15/50\n",
      "50000/50000 [==============================] - 4s 87us/step - loss: 1.2664 - acc: 0.5486 - val_loss: 1.4147 - val_acc: 0.4972\n"
     ]
    },
    {
     "data": {
      "text/plain": [
       "<keras.callbacks.History at 0x7f9b7943f400>"
      ]
     },
     "execution_count": 28,
     "metadata": {},
     "output_type": "execute_result"
    }
   ],
   "source": [
    "## Phase in layer 2    (seed 87)\n",
    "SECRET_SEED = 87\n",
    "\n",
    "x_train_shuffle = permute_pixels(x_train, SECRET_SEED)\n",
    "x_test_shuffle = permute_pixels(x_test, SECRET_SEED)\n",
    "\n",
    "hidden2_model = get_ppd_model_hiddenperm(name=DATASET_NAME, ppd=True, layerno=2)\n",
    "hidden2_model.summary()\n",
    "hidden2_model.compile(optimizer='adam',\n",
    "              loss='sparse_categorical_crossentropy',\n",
    "              metrics=['accuracy'])\n",
    "\n",
    "hidden2_model.fit(x_train_shuffle, y_train, epochs=50, verbose=1, batch_size=128, validation_data=(x_test_shuffle, y_test), callbacks=[EarlyStopping(monitor='val_loss', patience=2)])\n",
    "\n"
   ]
  },
  {
   "cell_type": "code",
   "execution_count": 29,
   "metadata": {},
   "outputs": [
    {
     "name": "stderr",
     "output_type": "stream",
     "text": [
      "[INFO 2018-12-03 20:31:09,887 cleverhans] Constructing new graph for attack FastGradientMethod\n",
      "[INFO 2018-12-03 20:31:10,855 cleverhans] Constructing new graph for attack FastGradientMethod\n",
      "[INFO 2018-12-03 20:31:11,377 cleverhans] Constructing new graph for attack FastGradientMethod\n"
     ]
    }
   ],
   "source": [
    "sess =  backend.get_session()\n",
    "backend.set_learning_phase(False)\n",
    "attack_params = {\n",
    "    'eps': 0.4\n",
    "    }\n",
    "\n",
    "def get_adv_exapmles(model, x, sess, attack_params):\n",
    "    wrap = KerasModelWrapper(model)\n",
    "    attack_model = FastGradientMethod(wrap, sess=sess)\n",
    "    x_adv = attack_model.generate_np(x, **attack_params)\n",
    "    return x_adv\n",
    "\n",
    "x_adv_normal = get_adv_exapmles(normal_model, x_test, sess, attack_params)\n",
    "x_adv_hid1 = get_adv_exapmles(hidden1_model, x_test, sess, attack_params)\n",
    "x_adv_hid2 = get_adv_exapmles(hidden2_model, x_test, sess, attack_params)\n"
   ]
  },
  {
   "cell_type": "code",
   "execution_count": 30,
   "metadata": {},
   "outputs": [
    {
     "name": "stdout",
     "output_type": "stream",
     "text": [
      "Normal PPD MLP acc normally 0.446\n",
      "Normal PPD MLP acc adv 0.2383\n",
      "Phase in layer 1 PPD MLP acc normally 0.4917\n",
      "Phase in layer 1 PPD MLP acc adv 0.2895\n",
      "Phase in layer 2 PPD MLP acc normally 0.4971\n",
      "Phase in layer 2 PPD MLP acc adv 0.3289\n"
     ]
    }
   ],
   "source": [
    "def test_model(model, x, y):\n",
    "    pred = np.argmax(model.predict(x), axis = 1)\n",
    "    acc =  np.mean(np.equal(pred.reshape(y.shape), y))\n",
    "    return (pred, acc)\n",
    "\n",
    "\n",
    "x_shuffle = permute_pixels(x_test, SECRET_SEED)\n",
    "x_adv_shuffle_n = permute_pixels(x_adv_normal, SECRET_SEED)\n",
    "\n",
    "pred, acc = test_model(normal_model, x_shuffle, y_test)\n",
    "print ('Normal PPD MLP acc normally', acc)\n",
    "pred, acc = test_model(normal_model, x_adv_shuffle_n, y_test)\n",
    "print ('Normal PPD MLP acc adv', acc)\n",
    "\n",
    "\n",
    "\n",
    "\n",
    "x_shuffle = permute_pixels(x_test, SECRET_SEED)\n",
    "x_adv_shuffle_1 = permute_pixels(x_adv_hid1, SECRET_SEED)\n",
    "\n",
    "pred, acc = test_model(hidden1_model, x_shuffle, y_test)\n",
    "print ('Phase in layer 1 PPD MLP acc normally', acc)\n",
    "pred, acc = test_model(hidden1_model, x_adv_shuffle_1, y_test)\n",
    "print ('Phase in layer 1 PPD MLP acc adv', acc)\n",
    "\n",
    "\n",
    "x_shuffle = permute_pixels(x_test, SECRET_SEED)\n",
    "x_adv_shuffle_2 = permute_pixels(x_adv_hid2, SECRET_SEED)\n",
    "\n",
    "pred, acc = test_model(hidden2_model, x_shuffle, y_test)\n",
    "print ('Phase in layer 2 PPD MLP acc normally', acc)\n",
    "pred, acc = test_model(hidden2_model, x_adv_shuffle_2, y_test)\n",
    "print ('Phase in layer 2 PPD MLP acc adv', acc)\n",
    "\n"
   ]
  },
  {
   "cell_type": "code",
   "execution_count": null,
   "metadata": {},
   "outputs": [],
   "source": []
  },
  {
   "cell_type": "code",
   "execution_count": null,
   "metadata": {},
   "outputs": [],
   "source": []
  }
 ],
 "metadata": {
  "kernelspec": {
   "display_name": "Python 3",
   "language": "python",
   "name": "python3"
  },
  "language_info": {
   "codemirror_mode": {
    "name": "ipython",
    "version": 3
   },
   "file_extension": ".py",
   "mimetype": "text/x-python",
   "name": "python",
   "nbconvert_exporter": "python",
   "pygments_lexer": "ipython3",
   "version": "3.6.6"
  }
 },
 "nbformat": 4,
 "nbformat_minor": 2
}
