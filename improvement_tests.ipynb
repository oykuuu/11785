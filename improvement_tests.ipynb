{
 "cells": [
  {
   "cell_type": "code",
   "execution_count": 5,
   "metadata": {},
   "outputs": [
    {
     "ename": "MemoryError",
     "evalue": "",
     "output_type": "error",
     "traceback": [
      "\u001b[0;31m---------------------------------------------------------------------------\u001b[0m",
      "\u001b[0;31mMemoryError\u001b[0m                               Traceback (most recent call last)",
      "\u001b[0;32m<ipython-input-5-85394ac80b94>\u001b[0m in \u001b[0;36m<module>\u001b[0;34m()\u001b[0m\n\u001b[1;32m     12\u001b[0m \u001b[0;34m\u001b[0m\u001b[0m\n\u001b[1;32m     13\u001b[0m \u001b[0mDATASET_NAME\u001b[0m \u001b[0;34m=\u001b[0m \u001b[0;34m'mnist'\u001b[0m\u001b[0;34m\u001b[0m\u001b[0m\n\u001b[0;32m---> 14\u001b[0;31m \u001b[0;34m(\u001b[0m\u001b[0mx_train\u001b[0m\u001b[0;34m,\u001b[0m \u001b[0my_train\u001b[0m\u001b[0;34m,\u001b[0m \u001b[0mx_test\u001b[0m\u001b[0;34m,\u001b[0m \u001b[0my_test\u001b[0m\u001b[0;34m)\u001b[0m \u001b[0;34m=\u001b[0m \u001b[0mget_dataset\u001b[0m\u001b[0;34m(\u001b[0m\u001b[0mDATASET_NAME\u001b[0m\u001b[0;34m)\u001b[0m\u001b[0;34m\u001b[0m\u001b[0m\n\u001b[0m",
      "\u001b[0;32m~/Documents/Oyku/DeepLearning/project/11785/utils.py\u001b[0m in \u001b[0;36mget_dataset\u001b[0;34m(name)\u001b[0m\n\u001b[1;32m     20\u001b[0m         \u001b[0mdataset\u001b[0m \u001b[0;34m=\u001b[0m \u001b[0mkeras\u001b[0m\u001b[0;34m.\u001b[0m\u001b[0mdatasets\u001b[0m\u001b[0;34m.\u001b[0m\u001b[0mcifar10\u001b[0m\u001b[0;34m\u001b[0m\u001b[0m\n\u001b[1;32m     21\u001b[0m     \u001b[0;34m(\u001b[0m\u001b[0mx_train\u001b[0m\u001b[0;34m,\u001b[0m \u001b[0my_train\u001b[0m\u001b[0;34m)\u001b[0m\u001b[0;34m,\u001b[0m\u001b[0;34m(\u001b[0m\u001b[0mx_test\u001b[0m\u001b[0;34m,\u001b[0m \u001b[0my_test\u001b[0m\u001b[0;34m)\u001b[0m \u001b[0;34m=\u001b[0m \u001b[0mdataset\u001b[0m\u001b[0;34m.\u001b[0m\u001b[0mload_data\u001b[0m\u001b[0;34m(\u001b[0m\u001b[0;34m)\u001b[0m\u001b[0;34m\u001b[0m\u001b[0m\n\u001b[0;32m---> 22\u001b[0;31m     \u001b[0mx_train\u001b[0m\u001b[0;34m,\u001b[0m \u001b[0mx_test\u001b[0m \u001b[0;34m=\u001b[0m \u001b[0mx_train\u001b[0m \u001b[0;34m/\u001b[0m \u001b[0;36m255.0\u001b[0m\u001b[0;34m,\u001b[0m \u001b[0mx_test\u001b[0m \u001b[0;34m/\u001b[0m \u001b[0;36m255.0\u001b[0m\u001b[0;34m\u001b[0m\u001b[0m\n\u001b[0m\u001b[1;32m     23\u001b[0m     \u001b[0;32mif\u001b[0m \u001b[0mname\u001b[0m \u001b[0;34m==\u001b[0m \u001b[0;34m'mnist'\u001b[0m\u001b[0;34m:\u001b[0m\u001b[0;34m\u001b[0m\u001b[0m\n\u001b[1;32m     24\u001b[0m         \u001b[0mx_train\u001b[0m \u001b[0;34m=\u001b[0m \u001b[0mnp\u001b[0m\u001b[0;34m.\u001b[0m\u001b[0mexpand_dims\u001b[0m\u001b[0;34m(\u001b[0m\u001b[0mx_train\u001b[0m\u001b[0;34m,\u001b[0m \u001b[0maxis\u001b[0m\u001b[0;34m=\u001b[0m\u001b[0;36m3\u001b[0m\u001b[0;34m)\u001b[0m  \u001b[0;31m# PPDModel expects 4 dimensional image data\u001b[0m\u001b[0;34m\u001b[0m\u001b[0m\n",
      "\u001b[0;31mMemoryError\u001b[0m: "
     ]
    }
   ],
   "source": [
    "import numpy as np\n",
    "import tensorflow as tf\n",
    "import matplotlib.pyplot as plt\n",
    "from utils import *\n",
    "from sklearn.metrics import roc_curve\n",
    "from keras.callbacks import EarlyStopping\n",
    "from keras import backend\n",
    "from cleverhans.attacks import FastGradientMethod\n",
    "from cleverhans.utils_keras import KerasModelWrapper\n",
    "import matplotlib as mpl\n",
    "from keras.models import load_model\n",
    "\n",
    "DATASET_NAME = 'mnist'\n",
    "(x_train, y_train, x_test, y_test) = get_dataset(DATASET_NAME)"
   ]
  },
  {
   "cell_type": "code",
   "execution_count": null,
   "metadata": {},
   "outputs": [],
   "source": []
  },
  {
   "cell_type": "code",
   "execution_count": 2,
   "metadata": {},
   "outputs": [],
   "source": [
    "def pixel2phase_before(images):\n",
    "    img_fft = np.fft.fft2(images)\n",
    "    phase = np.angle(img_fft)\n",
    "    return phase"
   ]
  },
  {
   "cell_type": "code",
   "execution_count": 3,
   "metadata": {},
   "outputs": [
    {
     "ename": "MemoryError",
     "evalue": "",
     "output_type": "error",
     "traceback": [
      "\u001b[0;31m---------------------------------------------------------------------------\u001b[0m",
      "\u001b[0;31mMemoryError\u001b[0m                               Traceback (most recent call last)",
      "\u001b[0;32m<ipython-input-3-6b515ba6ede2>\u001b[0m in \u001b[0;36m<module>\u001b[0;34m()\u001b[0m\n\u001b[1;32m      2\u001b[0m \u001b[0mSECRET_SEED\u001b[0m \u001b[0;34m=\u001b[0m \u001b[0;36m87\u001b[0m\u001b[0;34m\u001b[0m\u001b[0m\n\u001b[1;32m      3\u001b[0m \u001b[0;34m\u001b[0m\u001b[0m\n\u001b[0;32m----> 4\u001b[0;31m \u001b[0mx_train_phase\u001b[0m \u001b[0;34m=\u001b[0m \u001b[0mpixel2phase_before\u001b[0m\u001b[0;34m(\u001b[0m\u001b[0mx_train\u001b[0m\u001b[0;34m)\u001b[0m\u001b[0;34m\u001b[0m\u001b[0m\n\u001b[0m\u001b[1;32m      5\u001b[0m \u001b[0mx_test_phase\u001b[0m \u001b[0;34m=\u001b[0m \u001b[0mpixel2phase_before\u001b[0m\u001b[0;34m(\u001b[0m\u001b[0mx_test\u001b[0m\u001b[0;34m)\u001b[0m\u001b[0;34m\u001b[0m\u001b[0m\n\u001b[1;32m      6\u001b[0m \u001b[0mx_train_shuffle\u001b[0m \u001b[0;34m=\u001b[0m \u001b[0mpermute_pixels\u001b[0m\u001b[0;34m(\u001b[0m\u001b[0mx_train_phase\u001b[0m\u001b[0;34m,\u001b[0m \u001b[0mSECRET_SEED\u001b[0m\u001b[0;34m)\u001b[0m\u001b[0;34m\u001b[0m\u001b[0m\n",
      "\u001b[0;32m<ipython-input-2-0086f849bdef>\u001b[0m in \u001b[0;36mpixel2phase_before\u001b[0;34m(images)\u001b[0m\n\u001b[1;32m      1\u001b[0m \u001b[0;32mdef\u001b[0m \u001b[0mpixel2phase_before\u001b[0m\u001b[0;34m(\u001b[0m\u001b[0mimages\u001b[0m\u001b[0;34m)\u001b[0m\u001b[0;34m:\u001b[0m\u001b[0;34m\u001b[0m\u001b[0m\n\u001b[0;32m----> 2\u001b[0;31m     \u001b[0mimg_fft\u001b[0m \u001b[0;34m=\u001b[0m \u001b[0mnp\u001b[0m\u001b[0;34m.\u001b[0m\u001b[0mfft\u001b[0m\u001b[0;34m.\u001b[0m\u001b[0mfft2\u001b[0m\u001b[0;34m(\u001b[0m\u001b[0mimages\u001b[0m\u001b[0;34m)\u001b[0m\u001b[0;34m\u001b[0m\u001b[0m\n\u001b[0m\u001b[1;32m      3\u001b[0m     \u001b[0mphase\u001b[0m \u001b[0;34m=\u001b[0m \u001b[0mnp\u001b[0m\u001b[0;34m.\u001b[0m\u001b[0mangle\u001b[0m\u001b[0;34m(\u001b[0m\u001b[0mimg_fft\u001b[0m\u001b[0;34m)\u001b[0m\u001b[0;34m\u001b[0m\u001b[0m\n\u001b[1;32m      4\u001b[0m     \u001b[0;32mreturn\u001b[0m \u001b[0mphase\u001b[0m\u001b[0;34m\u001b[0m\u001b[0m\n",
      "\u001b[0;32m~/anaconda3/lib/python3.6/site-packages/mkl_fft/_numpy_fft.py\u001b[0m in \u001b[0;36mfft2\u001b[0;34m(a, s, axes, norm)\u001b[0m\n\u001b[1;32m    865\u001b[0m     \"\"\"\n\u001b[1;32m    866\u001b[0m \u001b[0;34m\u001b[0m\u001b[0m\n\u001b[0;32m--> 867\u001b[0;31m     \u001b[0;32mreturn\u001b[0m \u001b[0mfftn\u001b[0m\u001b[0;34m(\u001b[0m\u001b[0ma\u001b[0m\u001b[0;34m,\u001b[0m \u001b[0ms\u001b[0m\u001b[0;34m=\u001b[0m\u001b[0ms\u001b[0m\u001b[0;34m,\u001b[0m \u001b[0maxes\u001b[0m\u001b[0;34m=\u001b[0m\u001b[0maxes\u001b[0m\u001b[0;34m,\u001b[0m \u001b[0mnorm\u001b[0m\u001b[0;34m=\u001b[0m\u001b[0mnorm\u001b[0m\u001b[0;34m)\u001b[0m\u001b[0;34m\u001b[0m\u001b[0m\n\u001b[0m\u001b[1;32m    868\u001b[0m \u001b[0;34m\u001b[0m\u001b[0m\n\u001b[1;32m    869\u001b[0m \u001b[0;34m\u001b[0m\u001b[0m\n",
      "\u001b[0;32m~/anaconda3/lib/python3.6/site-packages/mkl_fft/_numpy_fft.py\u001b[0m in \u001b[0;36mfftn\u001b[0;34m(a, s, axes, norm)\u001b[0m\n\u001b[1;32m    674\u001b[0m \u001b[0;34m\u001b[0m\u001b[0m\n\u001b[1;32m    675\u001b[0m     \"\"\"\n\u001b[0;32m--> 676\u001b[0;31m     \u001b[0moutput\u001b[0m \u001b[0;34m=\u001b[0m \u001b[0mmkl_fft\u001b[0m\u001b[0;34m.\u001b[0m\u001b[0mfftn\u001b[0m\u001b[0;34m(\u001b[0m\u001b[0ma\u001b[0m\u001b[0;34m,\u001b[0m \u001b[0ms\u001b[0m\u001b[0;34m,\u001b[0m \u001b[0maxes\u001b[0m\u001b[0;34m)\u001b[0m\u001b[0;34m\u001b[0m\u001b[0m\n\u001b[0m\u001b[1;32m    677\u001b[0m     \u001b[0;32mif\u001b[0m \u001b[0m_unitary\u001b[0m\u001b[0;34m(\u001b[0m\u001b[0mnorm\u001b[0m\u001b[0;34m)\u001b[0m\u001b[0;34m:\u001b[0m\u001b[0;34m\u001b[0m\u001b[0m\n\u001b[1;32m    678\u001b[0m         \u001b[0moutput\u001b[0m \u001b[0;34m*=\u001b[0m \u001b[0;36m1\u001b[0m \u001b[0;34m/\u001b[0m \u001b[0msqrt\u001b[0m\u001b[0;34m(\u001b[0m\u001b[0m_tot_size\u001b[0m\u001b[0;34m(\u001b[0m\u001b[0moutput\u001b[0m\u001b[0;34m,\u001b[0m \u001b[0maxes\u001b[0m\u001b[0;34m)\u001b[0m\u001b[0;34m)\u001b[0m\u001b[0;34m\u001b[0m\u001b[0m\n",
      "\u001b[0;32mmkl_fft/_pydfti.pyx\u001b[0m in \u001b[0;36mmkl_fft._pydfti.fftn\u001b[0;34m()\u001b[0m\n",
      "\u001b[0;32mmkl_fft/_pydfti.pyx\u001b[0m in \u001b[0;36mmkl_fft._pydfti._fftnd_impl\u001b[0;34m()\u001b[0m\n",
      "\u001b[0;32mmkl_fft/_pydfti.pyx\u001b[0m in \u001b[0;36mmkl_fft._pydfti._iter_fftnd\u001b[0;34m()\u001b[0m\n",
      "\u001b[0;32mmkl_fft/_pydfti.pyx\u001b[0m in \u001b[0;36mmkl_fft._pydfti.fft\u001b[0;34m()\u001b[0m\n",
      "\u001b[0;32mmkl_fft/_pydfti.pyx\u001b[0m in \u001b[0;36mmkl_fft._pydfti._fft1d_impl\u001b[0;34m()\u001b[0m\n",
      "\u001b[0;32mmkl_fft/_pydfti.pyx\u001b[0m in \u001b[0;36mmkl_fft._pydfti.__allocate_result\u001b[0;34m()\u001b[0m\n",
      "\u001b[0;31mMemoryError\u001b[0m: "
     ]
    }
   ],
   "source": [
    "## MLP + Phase before Permutation    (seed 87)\n",
    "SECRET_SEED = 87\n",
    "\n",
    "x_train_phase = pixel2phase_before(x_train)\n",
    "x_test_phase = pixel2phase_before(x_test)\n",
    "x_train_shuffle = permute_pixels(x_train_phase, SECRET_SEED)\n",
    "x_test_shuffle = permute_pixels(x_test_phase, SECRET_SEED)\n",
    "\n",
    "order_model = get_ppd_model(name=DATASET_NAME, ppd=False)\n",
    "order_model.summary()\n",
    "order_model.compile(optimizer='adam',\n",
    "              loss='sparse_categorical_crossentropy',\n",
    "              metrics=['accuracy'])\n",
    "\n",
    "order_model.fit(x_train_shuffle, y_train, epochs=50, verbose=1, batch_size=128, validation_data=(x_test_shuffle, y_test), callbacks=[EarlyStopping(monitor='val_loss', patience=2)])\n",
    "\n"
   ]
  },
  {
   "cell_type": "code",
   "execution_count": null,
   "metadata": {},
   "outputs": [],
   "source": [
    "sess =  backend.get_session()\n",
    "backend.set_learning_phase(False)\n",
    "attack_params = {\n",
    "    'eps': 0.4\n",
    "    }\n",
    "\n",
    "def get_adv_exapmles(model, x, sess, attack_params):\n",
    "    wrap = KerasModelWrapper(model)\n",
    "    attack_model = FastGradientMethod(wrap, sess=sess)\n",
    "    x_adv = attack_model.generate_np(x, **attack_params)\n",
    "    return x_adv\n",
    "\n",
    "x_adv_order = get_adv_exapmles(order_model, x_test, sess, attack_params)\n"
   ]
  },
  {
   "cell_type": "code",
   "execution_count": null,
   "metadata": {},
   "outputs": [],
   "source": [
    "def test_model(model, x, y):\n",
    "    pred = np.argmax(model.predict(x), axis = 1)\n",
    "    acc =  np.mean(np.equal(pred.reshape(y.shape), y))\n",
    "    return (pred, acc)\n",
    "\n",
    "x_test_phase = pixel2phase_before(x_test)\n",
    "x_adv_phase = pixel2phase_before(x_adv_order)\n",
    "x_shuffle = permute_pixels(x_test_phase, SECRET_SEED)\n",
    "x_adv_shuffle = permute_pixels(x_adv_phase, SECRET_SEED)\n",
    "\n",
    "pred, acc = test_model(order_model, x_shuffle, y_test)\n",
    "print ('Order changed PPD MLP acc normally', acc)\n",
    "pred, acc = test_model(order_model, x_adv_shuffle, y_test)\n",
    "print ('Order changed PPD MLP acc adv', acc)\n"
   ]
  },
  {
   "cell_type": "code",
   "execution_count": null,
   "metadata": {},
   "outputs": [],
   "source": []
  },
  {
   "cell_type": "code",
   "execution_count": null,
   "metadata": {},
   "outputs": [],
   "source": [
    "def get_ppd_model_hiddenperm(name='mnist', ppd=True, layerno=1):\n",
    "    if name == 'mnist':\n",
    "        input_shape = (28, 28, 1)\n",
    "    else:\n",
    "        input_shape = (32, 32, 3)  # cifar10\n",
    "\n",
    "    def pixel2phase(images):\n",
    "        img_fft = tf.fft(tf.cast(images, tf.complex64))\n",
    "        phase = tf.angle(img_fft)\n",
    "        return phase\n",
    "    \n",
    "    input_tensor = Input(name='input_images', shape=input_shape, dtype='float32')\n",
    "    \n",
    "    \n",
    "    inner = Flatten(name='flatten')(input_tensor)\n",
    "    inner = Dense(800,  name='dense800', kernel_initializer='he_normal', activation='relu')(inner)\n",
    "    \n",
    "    if ppd and layerno==1:\n",
    "        inner = Lambda(pixel2phase, name='pixel2phase')(inner)\n",
    "        #inner = Flatten(name='flatten')(inner)\n",
    "        \n",
    "    inner = Dense(300,  name='dense300', kernel_initializer='he_normal', activation='relu')(inner)\n",
    "    if ppd and layerno==2:\n",
    "        inner = Lambda(pixel2phase, name='pixel2phase')(inner)\n",
    "    \n",
    "    y_pred = Dense(10,  name='dense10', kernel_initializer='he_normal', activation='softmax')(inner)\n",
    "\n",
    "    return Model(inputs=[input_tensor], outputs=y_pred)\n"
   ]
  },
  {
   "cell_type": "code",
   "execution_count": null,
   "metadata": {},
   "outputs": [],
   "source": [
    "## MLP + Phase before Permutation    (seed 87)\n",
    "SECRET_SEED = 87\n",
    "\n",
    "x_train_shuffle = permute_pixels(x_train, SECRET_SEED)\n",
    "x_test_shuffle = permute_pixels(x_test, SECRET_SEED)\n",
    "\n",
    "hidden1_model = get_ppd_model_hiddenperm(name=DATASET_NAME, ppd=True, layerno=2)\n",
    "hidden1_model.summary()\n",
    "hidden1_model.compile(optimizer='adam',\n",
    "              loss='sparse_categorical_crossentropy',\n",
    "              metrics=['accuracy'])\n",
    "\n",
    "hidden1_model.fit(x_train_shuffle, y_train, epochs=50, verbose=1, batch_size=128, validation_data=(x_test_shuffle, y_test), callbacks=[EarlyStopping(monitor='val_loss', patience=2)])\n",
    "\n"
   ]
  },
  {
   "cell_type": "code",
   "execution_count": null,
   "metadata": {},
   "outputs": [],
   "source": [
    "## MLP + Phase before Permutation    (seed 87)\n",
    "SECRET_SEED = 87\n",
    "\n",
    "x_train_shuffle = permute_pixels(x_train, SECRET_SEED)\n",
    "x_test_shuffle = permute_pixels(x_test, SECRET_SEED)\n",
    "\n",
    "hidden2_model = get_ppd_model_hiddenperm(name=DATASET_NAME, ppd=True, layerno=2)\n",
    "hidden2_model.summary()\n",
    "hidden2_model.compile(optimizer='adam',\n",
    "              loss='sparse_categorical_crossentropy',\n",
    "              metrics=['accuracy'])\n",
    "\n",
    "hidden2_model.fit(x_train_shuffle, y_train, epochs=50, verbose=1, batch_size=128, validation_data=(x_test_shuffle, y_test), callbacks=[EarlyStopping(monitor='val_loss', patience=2)])\n",
    "\n"
   ]
  },
  {
   "cell_type": "code",
   "execution_count": null,
   "metadata": {},
   "outputs": [],
   "source": [
    "sess =  backend.get_session()\n",
    "backend.set_learning_phase(False)\n",
    "attack_params = {\n",
    "    'eps': 0.4\n",
    "    }\n",
    "\n",
    "def get_adv_exapmles(model, x, sess, attack_params):\n",
    "    wrap = KerasModelWrapper(model)\n",
    "    attack_model = FastGradientMethod(wrap, sess=sess)\n",
    "    x_adv = attack_model.generate_np(x, **attack_params)\n",
    "    return x_adv\n",
    "\n",
    "x_adv_hid1 = get_adv_exapmles(hidden1_model, x_test, sess, attack_params)\n",
    "x_adv_hid2 = get_adv_exapmles(hidden2_model, x_test, sess, attack_params)\n"
   ]
  },
  {
   "cell_type": "code",
   "execution_count": null,
   "metadata": {},
   "outputs": [],
   "source": [
    "def test_model(model, x, y):\n",
    "    pred = np.argmax(model.predict(x), axis = 1)\n",
    "    acc =  np.mean(np.equal(pred.reshape(y.shape), y))\n",
    "    return (pred, acc)\n",
    "\n",
    "x_shuffle = permute_pixels(x_test_phase, SECRET_SEED)\n",
    "x_adv_shuffle_1 = permute_pixels(x_adv_hid1, SECRET_SEED)\n",
    "\n",
    "pred, acc = test_model(hidden1_model, x_shuffle, y_test)\n",
    "print ('Phase in layer 1 PPD MLP acc normally', acc)\n",
    "pred, acc = test_model(hidden1_model, x_adv_shuffle_1, y_test)\n",
    "print ('Phase in layer 1 PPD MLP acc adv', acc)\n",
    "\n",
    "\n",
    "x_shuffle = permute_pixels(x_test_phase, SECRET_SEED)\n",
    "x_adv_shuffle_2 = permute_pixels(x_adv_hid2, SECRET_SEED)\n",
    "\n",
    "pred, acc = test_model(hidden2_model, x_shuffle, y_test)\n",
    "print ('Phase in layer 2 PPD MLP acc normally', acc)\n",
    "pred, acc = test_model(hidden2_model, x_adv_shuffle_2, y_test)\n",
    "print ('Phase in layer 2 PPD MLP acc adv', acc)\n",
    "\n"
   ]
  },
  {
   "cell_type": "code",
   "execution_count": null,
   "metadata": {},
   "outputs": [],
   "source": []
  },
  {
   "cell_type": "code",
   "execution_count": null,
   "metadata": {},
   "outputs": [],
   "source": []
  }
 ],
 "metadata": {
  "kernelspec": {
   "display_name": "Python 3",
   "language": "python",
   "name": "python3"
  },
  "language_info": {
   "codemirror_mode": {
    "name": "ipython",
    "version": 3
   },
   "file_extension": ".py",
   "mimetype": "text/x-python",
   "name": "python",
   "nbconvert_exporter": "python",
   "pygments_lexer": "ipython3",
   "version": "3.6.5"
  }
 },
 "nbformat": 4,
 "nbformat_minor": 2
}
