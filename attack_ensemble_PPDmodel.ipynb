{
 "cells": [
  {
   "cell_type": "code",
   "execution_count": 1,
   "metadata": {},
   "outputs": [
    {
     "name": "stderr",
     "output_type": "stream",
     "text": [
      "Using TensorFlow backend.\n",
      "/usr/local/Cellar/python/3.6.5/Frameworks/Python.framework/Versions/3.6/lib/python3.6/importlib/_bootstrap.py:219: RuntimeWarning: compiletime version 3.5 of module 'tensorflow.python.framework.fast_tensor_util' does not match runtime version 3.6\n",
      "  return f(*args, **kwds)\n"
     ]
    }
   ],
   "source": [
    "# This link might be useful, unclear yet: https://medium.com/randomai/ensemble-and-store-models-in-keras-2-x-b881a6d7693f\n",
    "import numpy as np\n",
    "import keras\n",
    "from keras import backend\n",
    "from keras.models import load_model\n",
    "import tensorflow as tf\n",
    "from utils import *\n",
    "\n",
    "from cleverhans.attacks import FastGradientMethod\n",
    "from cleverhans.attacks import BasicIterativeMethod\n",
    "from cleverhans.utils_keras import KerasModelWrapper"
   ]
  },
  {
   "cell_type": "code",
   "execution_count": 2,
   "metadata": {},
   "outputs": [
    {
     "name": "stdout",
     "output_type": "stream",
     "text": [
      "x_train shape (60000, 28, 28, 1)\n",
      "y_train shape (60000,)\n",
      "x_test shape (10000, 28, 28, 1)\n",
      "y_test shape (10000,)\n"
     ]
    }
   ],
   "source": [
    "dataset = 'mnist'\n",
    "num_classes = 10\n",
    "(x_train, y_train, x_test, y_test) = get_dataset(dataset)"
   ]
  },
  {
   "cell_type": "code",
   "execution_count": 3,
   "metadata": {},
   "outputs": [],
   "source": [
    "backend.set_learning_phase(False)\n",
    "sess =  backend.get_session()\n",
    "\n",
    "# Define input TF placeholder\n",
    "x = tf.placeholder(tf.float32, shape=(None, 28, 28, 1))\n",
    "y = tf.placeholder(tf.float32, shape=(None, 10))"
   ]
  },
  {
   "cell_type": "code",
   "execution_count": 4,
   "metadata": {},
   "outputs": [
    {
     "name": "stdout",
     "output_type": "stream",
     "text": [
      "The normal test accuracy is: 0.957\n"
     ]
    }
   ],
   "source": [
    "# this is the secret seed 87 one\n",
    "# we're going to give this trained model to the adversary\n",
    "KNOWN_SEED = 87\n",
    "keras_model = load_model('models/'+dataset+'_trained_keras_model'+'.hdf5', custom_objects={'tf':tf}) \n",
    "x_shuffle = permute_pixels(x_test, KNOWN_SEED)\n",
    "pred = np.argmax(keras_model.predict(x_shuffle), axis = 1)\n",
    "acc =  np.mean(np.equal(pred, y_test))\n",
    "print(\"The normal test accuracy is: {}\".format(acc))"
   ]
  },
  {
   "cell_type": "code",
   "execution_count": 6,
   "metadata": {},
   "outputs": [
    {
     "name": "stdout",
     "output_type": "stream",
     "text": [
      "WARNING:tensorflow:From /usr/local/lib/python3.6/site-packages/cleverhans/attacks.py:216: calling reduce_max (from tensorflow.python.ops.math_ops) with keep_dims is deprecated and will be removed in a future version.\n",
      "Instructions for updating:\n",
      "keep_dims is deprecated, use keepdims instead\n",
      "WARNING:tensorflow:From /usr/local/lib/python3.6/site-packages/cleverhans/attacks_tf.py:62: calling reduce_sum (from tensorflow.python.ops.math_ops) with keep_dims is deprecated and will be removed in a future version.\n",
      "Instructions for updating:\n",
      "keep_dims is deprecated, use keepdims instead\n",
      "WARNING:tensorflow:From /usr/local/lib/python3.6/site-packages/cleverhans/utils_tf.py:37: softmax_cross_entropy_with_logits (from tensorflow.python.ops.nn_ops) is deprecated and will be removed in a future version.\n",
      "Instructions for updating:\n",
      "\n",
      "Future major versions of TensorFlow will allow gradients to flow\n",
      "into the labels input on backprop by default.\n",
      "\n",
      "See @{tf.nn.softmax_cross_entropy_with_logits_v2}.\n",
      "\n",
      "The adversarial validation accuracy is: 0.0736\n"
     ]
    }
   ],
   "source": [
    "# generate adversariale examples (x_adv) using the 87 keras model\n",
    "# http://everettsprojects.com/2018/01/30/mnist-adversarial-examples.html\n",
    "# https://cleverhans.readthedocs.io/en/latest/source/attacks.html#generate_np\n",
    "wrap = KerasModelWrapper(keras_model)\n",
    "fgsm = FastGradientMethod(wrap, sess=sess)\n",
    "fgsm_params = {'eps': 0.3,\n",
    "               'clip_min': 0.,\n",
    "               'clip_max': 1.}\n",
    "x_adv = fgsm.generate_np(x_test, **fgsm_params)\n",
    "\n",
    "# test x_adv against the single model\n",
    "x_shuffle = permute_pixels(x_test, KNOWN_SEED)\n",
    "pred = np.argmax(keras_model.predict(x_shuffle), axis = 1)  # predicted class labels\n",
    "acc =  np.mean(np.equal(pred, y_test))\n",
    "print(\"The adversarial validation accuracy is: {}\".format(acc))"
   ]
  },
  {
   "cell_type": "code",
   "execution_count": 7,
   "metadata": {},
   "outputs": [
    {
     "name": "stdout",
     "output_type": "stream",
     "text": [
      "Individual model accuracy: 0.0933 SECRET_SEED: 0\n",
      "Ensemble accuracy: 0.098\n"
     ]
    }
   ],
   "source": [
    "# test x_adv against the ensemble model\n",
    "\n",
    "num_models = 1  # debugging with smaller number. change this to 50 later.\n",
    "num_samples = x_adv.shape[0]\n",
    "acc_per_model = []\n",
    "# We're assuming majority voting?\n",
    "pred_all_model = np.zeros((num_samples, num_classes)) # we're going to store votes from each model here\n",
    "\n",
    "for SECRET_SEED in range(num_models):\n",
    "    keras_model = load_model('models/'+dataset+'_trained_keras_model_'+str(SECRET_SEED)+'.hdf5', custom_objects={'tf':tf})\n",
    "    x_adv_shuffle = permute_pixels(x_adv, SECRET_SEED)\n",
    "    pred = np.argmax(keras_model.predict(x_adv_shuffle), axis = 1)  # predicted class labels\n",
    "    pred_all_model[:, pred] += 1  # +1 vote \n",
    "    acc =  np.mean(np.equal(pred, y_test))\n",
    "    print ('Individual model accuracy:', acc, 'SECRET_SEED:', SECRET_SEED)\n",
    "    acc_per_model.append(acc)  # accuracy per model, not reported in paper\n",
    "\n",
    "# for each adversarial sample, find out the class with most votes\n",
    "ensemble_pred = np.argmax(pred_all_model, axis = 1)\n",
    "acc =  np.mean(np.equal(ensemble_pred, y_test))\n",
    "print ('Ensemble accuracy:', acc)"
   ]
  },
  {
   "cell_type": "code",
   "execution_count": null,
   "metadata": {},
   "outputs": [],
   "source": []
  }
 ],
 "metadata": {
  "kernelspec": {
   "display_name": "Python 3",
   "language": "python",
   "name": "python3"
  },
  "language_info": {
   "codemirror_mode": {
    "name": "ipython",
    "version": 3
   },
   "file_extension": ".py",
   "mimetype": "text/x-python",
   "name": "python",
   "nbconvert_exporter": "python",
   "pygments_lexer": "ipython3",
   "version": "3.6.5"
  }
 },
 "nbformat": 4,
 "nbformat_minor": 2
}
