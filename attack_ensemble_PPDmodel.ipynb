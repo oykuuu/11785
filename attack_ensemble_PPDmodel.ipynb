{
 "cells": [
  {
   "cell_type": "code",
   "execution_count": null,
   "metadata": {},
   "outputs": [],
   "source": [
    "# This link might be useful, unclear yet: https://medium.com/randomai/ensemble-and-store-models-in-keras-2-x-b881a6d7693f\n",
    "import numpy as np\n",
    "import keras\n",
    "from keras import backend\n",
    "from keras.models import load_model\n",
    "import tensorflow as tf\n",
    "from utils import *\n",
    "\n",
    "import cleverhans.attacks as Attacks\n",
    "from cleverhans.attacks import FastGradientMethod\n",
    "from cleverhans.attacks import BasicIterativeMethod\n",
    "from cleverhans.utils_keras import KerasModelWrapper"
   ]
  },
  {
   "cell_type": "markdown",
   "metadata": {},
   "source": [
    "## Set up"
   ]
  },
  {
   "cell_type": "code",
   "execution_count": null,
   "metadata": {},
   "outputs": [],
   "source": [
    "ATTACK_NAME = 'fgsm' # sys.argv[1]\n",
    "DATASET_NAME = 'mnist' # sys.argv[2]"
   ]
  },
  {
   "cell_type": "code",
   "execution_count": null,
   "metadata": {},
   "outputs": [],
   "source": [
    "# l-inf attacks\n",
    "if ATTACK_NAME == 'fgsm':\n",
    "    AttackModel = Attacks.FastGradientMethod\n",
    "    attack_params = {\n",
    "    'eps': 0.5,\n",
    "    'clip_min': 0.0,\n",
    "    'clip_max': 1.0\n",
    "    }\n",
    "elif ATTACK_NAME == 'pgd':\n",
    "    AttackModel = Attacks.ProjectedGradientDescent\n",
    "    attack_params = {\n",
    "    'eps': 0.5,\n",
    "    'clip_min': 0.0,\n",
    "    'clip_max': 1.0\n",
    "    }\n",
    "elif ATTACK_NAME == 'bim':\n",
    "    # subclass of pgd (rand_init == 0)\n",
    "    AttackModel = Attacks.BasicIterativeMethod\n",
    "    attack_params = {\n",
    "    'eps': 0.5,\n",
    "    'clip_min': 0.0,\n",
    "    'clip_max': 1.0\n",
    "    }\n",
    "# l-2 \n",
    "elif ATTACK_NAME == 'inf-pgd':\n",
    "    AttackModel = Attacks.ProjectedGradientDescent\n",
    "    attack_params = {\n",
    "    'eps': 0.5,\n",
    "    'clip_min': 0.0,\n",
    "    'clip_max': 1.0,\n",
    "    'ord': np.inf\n",
    "    }\n",
    "elif ATTACK_NAME == 'cw':\n",
    "    # subclass of pgd (rand_init == 0)\n",
    "    AttackModel = Attacks.CarliniWagnerL2\n",
    "    attack_params = {\n",
    "    'eps': 0.5,\n",
    "    'clip_min': 0.0,\n",
    "    'clip_max': 1.0\n",
    "    }\n",
    "\n",
    "\n"
   ]
  },
  {
   "cell_type": "code",
   "execution_count": null,
   "metadata": {},
   "outputs": [],
   "source": [
    "num_classes = 10\n",
    "(x_train, y_train, x_test, y_test) = get_dataset(DATASET_NAME)"
   ]
  },
  {
   "cell_type": "code",
   "execution_count": null,
   "metadata": {},
   "outputs": [],
   "source": [
    "backend.set_learning_phase(False)\n",
    "sess =  backend.get_session()\n",
    "\n",
    "# Define input TF placeholder\n",
    "if DATASET_NAME == 'mnist':\n",
    "    x = tf.placeholder(tf.float32, shape=(None, 28, 28, 1))\n",
    "    y = tf.placeholder(tf.float32, shape=(None, 10))\n",
    "elif DATASET_NAME == 'cifar10':\n",
    "    x = tf.placeholder(tf.float32, shape=(None, 32, 32, 3))\n",
    "    y = tf.placeholder(tf.float32, shape=(None, 10))"
   ]
  },
  {
   "cell_type": "code",
   "execution_count": null,
   "metadata": {},
   "outputs": [],
   "source": [
    "def test_keras_model(model, SEED, images, labels):\n",
    "    x_shuffle = permute_pixels(images, SEED)\n",
    "    pred = np.argmax(model.predict(x_shuffle), axis = 1)\n",
    "    acc =  np.mean(np.equal(pred, labels))\n",
    "    return (pred, acc)"
   ]
  },
  {
   "cell_type": "markdown",
   "metadata": {},
   "source": [
    "## Generate Adversarial Examples"
   ]
  },
  {
   "cell_type": "code",
   "execution_count": null,
   "metadata": {},
   "outputs": [],
   "source": [
    "KNOWN_SEED = 87\n",
    "# we're going to give this model trained with KNOWN_SEED to the adversary\n",
    "\n",
    "known_model = load_model('models/'+DATASET_NAME+'_trained_keras_model'+'.hdf5', custom_objects={'tf':tf}) \n",
    "pred, acc = test_keras_model(known_model, KNOWN_SEED, x_test, y_test)\n",
    "print(\"The normal test accuracy is: {}\".format(acc))"
   ]
  },
  {
   "cell_type": "code",
   "execution_count": null,
   "metadata": {},
   "outputs": [],
   "source": [
    "# generate adversariale examples (x_adv) using the known model\n",
    "# http://everettsprojects.com/2018/01/30/mnist-adversarial-examples.html\n",
    "# https://cleverhans.readthedocs.io/en/latest/source/attacks.html#generate_np\n",
    "\n",
    "wrap = KerasModelWrapper(known_model)\n",
    "attack_model = AttackModel(wrap, sess=sess)\n",
    "x_adv = attack_model.generate_np(x_test, **attack_params)\n",
    "\n",
    "# test x_adv against the single model\n",
    "pred, acc = test_keras_model(known_model, KNOWN_SEED, x_adv, y_test)\n",
    "print(\"The adversarial test accuracy is: {}\".format(acc))"
   ]
  },
  {
   "cell_type": "markdown",
   "metadata": {},
   "source": [
    "## Attack Ensemble PPD models"
   ]
  },
  {
   "cell_type": "code",
   "execution_count": null,
   "metadata": {},
   "outputs": [],
   "source": [
    "# test x_adv against the ensemble model\n",
    "\n",
    "num_models = 10  # debugging with smaller number. change this to 10/50 later.\n",
    "num_samples = x_adv.shape[0]\n",
    "adv_acc = []\n",
    "normal_acc = []\n",
    "# We're assuming majority voting?\n",
    "# we're going to store votes from each model here\n",
    "adv_pred = np.zeros((num_samples, num_classes)) \n",
    "normal_pred = np.zeros((num_samples, num_classes)) \n",
    "\n",
    "for SECRET_SEED in range(num_models):\n",
    "    keras_model = load_model('models/'+DATASET_NAME+'_trained_keras_model_'+str(SECRET_SEED)+'.hdf5', custom_objects={'tf':tf})\n",
    "\n",
    "    pred, acc = test_keras_model(keras_model, SECRET_SEED, x_test, y_test)\n",
    "    normal_pred[range(num_samples), pred] += 1  # +1 vote \n",
    "    print ('SECRET_SEED:', SECRET_SEED, 'Individual model normal accuracy:', acc)\n",
    "    normal_acc.append(acc)\n",
    "    \n",
    "    pred, acc = test_keras_model(keras_model, SECRET_SEED, x_adv, y_test)\n",
    "    adv_pred[range(num_samples), pred] += 1  # +1 vote \n",
    "    print ('SECRET_SEED:', SECRET_SEED, 'Individual model adversarial accuracy:', acc)   \n",
    "    adv_acc.append(acc)  # accuracy per model, not reported in paper\n",
    "\n",
    "    \n",
    "# for each sample, find out the class with most votes\n",
    "ensemble_pred = np.argmax(normal_pred, axis = 1)\n",
    "acc =  np.mean(np.equal(ensemble_pred, y_test))\n",
    "print ('Ensemble normal accuracy:', acc)\n",
    "\n",
    "ensemble_pred = np.argmax(adv_pred, axis = 1)\n",
    "acc =  np.mean(np.equal(ensemble_pred, y_test))\n",
    "print ('Ensemble adversarial accuracy:', acc)"
   ]
  },
  {
   "cell_type": "code",
   "execution_count": null,
   "metadata": {},
   "outputs": [],
   "source": []
  },
  {
   "cell_type": "code",
   "execution_count": null,
   "metadata": {},
   "outputs": [],
   "source": []
  }
 ],
 "metadata": {
  "kernelspec": {
   "display_name": "Python 3",
   "language": "python",
   "name": "python3"
  },
  "language_info": {
   "codemirror_mode": {
    "name": "ipython",
    "version": 3
   },
   "file_extension": ".py",
   "mimetype": "text/x-python",
   "name": "python",
   "nbconvert_exporter": "python",
   "pygments_lexer": "ipython3",
   "version": "3.6.5"
  }
 },
 "nbformat": 4,
 "nbformat_minor": 2
}
