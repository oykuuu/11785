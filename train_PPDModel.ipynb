{
 "cells": [
  {
   "cell_type": "code",
   "execution_count": 1,
   "metadata": {},
   "outputs": [
    {
     "name": "stderr",
     "output_type": "stream",
     "text": [
      "/usr/local/Cellar/python/3.6.5/Frameworks/Python.framework/Versions/3.6/lib/python3.6/importlib/_bootstrap.py:219: RuntimeWarning: compiletime version 3.5 of module 'tensorflow.python.framework.fast_tensor_util' does not match runtime version 3.6\n",
      "  return f(*args, **kwds)\n",
      "Using TensorFlow backend.\n"
     ]
    }
   ],
   "source": [
    "import numpy as np\n",
    "import tensorflow as tf\n",
    "from tensorflow.keras.models import Model\n",
    "from tensorflow.keras.layers import Dense, Flatten, Input, Lambda\n",
    "import matplotlib.pyplot as plt\n",
    "from PPDModel import get_ppd_model\n",
    "from keras import models"
   ]
  },
  {
   "cell_type": "code",
   "execution_count": 2,
   "metadata": {},
   "outputs": [],
   "source": [
    "def get_dataset(name='mnist'):\n",
    "    if name == 'mnist':\n",
    "        dataset = tf.keras.datasets.mnist\n",
    "    else:\n",
    "        dataset = tf.keras.datasets.cifar10\n",
    "    (x_train, y_train),(x_test, y_test) = dataset.load_data()\n",
    "    x_train, x_test = x_train / 255.0, x_test / 255.0\n",
    "    if name == 'mnist':\n",
    "        x_train = np.expand_dims(x_train, axis=3)  # PPDModel expects 4 dimensional image data\n",
    "        x_test = np.expand_dims(x_test, axis=3)\n",
    "    print('x_train shape', x_train.shape)\n",
    "    print('y_train shape',y_train.shape)\n",
    "    print('x_test shape',x_test.shape)\n",
    "    print('y_test shape',y_test.shape)\n",
    "    return (x_train, y_train, x_test, y_test)\n",
    "\n",
    "\n",
    "def permute_pixels(images, seed):\n",
    "    n_sample, img_r, img_c, n_channels = images.shape\n",
    "    np.random.seed(seed)\n",
    "    perm_idx = np.random.permutation(img_r*img_c)\n",
    "    permuted_images = np.zeros_like(images)\n",
    "    for idx in range(n_sample):\n",
    "        for channel in range(n_channels):\n",
    "            img = images[idx, :, :, channel].flatten()\n",
    "            img = img[perm_idx]\n",
    "            permuted_images[idx, :, :, channel] = img.reshape((img_r, img_c))\n",
    "    return permuted_images"
   ]
  },
  {
   "cell_type": "markdown",
   "metadata": {},
   "source": [
    "## TRAINING ON MNIST DATASET"
   ]
  },
  {
   "cell_type": "code",
   "execution_count": 3,
   "metadata": {},
   "outputs": [
    {
     "name": "stdout",
     "output_type": "stream",
     "text": [
      "x_train shape (60000, 28, 28, 1)\n",
      "y_train shape (60000,)\n",
      "x_test shape (10000, 28, 28, 1)\n",
      "y_test shape (10000,)\n"
     ]
    },
    {
     "data": {
      "image/png": "[encoded data removed]",
      "text/plain": [
       "<Figure size 432x288 with 1 Axes>"
      ]
     },
     "metadata": {
      "needs_background": "light"
     },
     "output_type": "display_data"
    },
    {
     "data": {
      "image/png": "[encoded data removed]",
      "text/plain": [
       "<Figure size 432x288 with 1 Axes>"
      ]
     },
     "metadata": {
      "needs_background": "light"
     },
     "output_type": "display_data"
    }
   ],
   "source": [
    "SECRET_SEED = 23\n",
    "(x_train, y_train, x_test, y_test) = get_dataset('mnist')\n",
    "plt.figure()\n",
    "plt.imshow(x_train[0,:,:,0])\n",
    "plt.title('original image')\n",
    "\n",
    "x_train = permute_pixels(x_train, SECRET_SEED)\n",
    "x_test = permute_pixels(x_test, SECRET_SEED)\n",
    "plt.figure()\n",
    "plt.imshow(x_train[0,:,:,0])\n",
    "plt.title('permuted image')\n",
    "plt.show()"
   ]
  },
  {
   "cell_type": "code",
   "execution_count": 4,
   "metadata": {},
   "outputs": [
    {
     "name": "stdout",
     "output_type": "stream",
     "text": [
      "WARNING:tensorflow:From /usr/local/lib/python3.6/site-packages/tensorflow/python/keras/initializers.py:104: calling VarianceScaling.__init__ (from tensorflow.python.ops.init_ops) with distribution=normal is deprecated and will be removed in a future version.\n",
      "Instructions for updating:\n",
      "`normal` is a deprecated alias for `truncated_normal`\n",
      "Train on 60000 samples, validate on 10000 samples\n",
      "Epoch 1/15\n",
      "60000/60000 [==============================] - 20s 330us/step - loss: 0.3004 - acc: 0.9097 - val_loss: 0.1613 - val_acc: 0.9481\n",
      "Epoch 2/15\n",
      "60000/60000 [==============================] - 18s 301us/step - loss: 0.0916 - acc: 0.9710 - val_loss: 0.1562 - val_acc: 0.9507\n",
      "Epoch 3/15\n",
      "60000/60000 [==============================] - 18s 298us/step - loss: 0.0482 - acc: 0.9845 - val_loss: 0.1624 - val_acc: 0.9528\n",
      "Epoch 4/15\n",
      "60000/60000 [==============================] - 22s 366us/step - loss: 0.0310 - acc: 0.9897 - val_loss: 0.1854 - val_acc: 0.9553\n",
      "Epoch 5/15\n",
      "60000/60000 [==============================] - 19s 320us/step - loss: 0.0326 - acc: 0.9892 - val_loss: 0.1803 - val_acc: 0.9557\n",
      "Epoch 6/15\n",
      "60000/60000 [==============================] - 20s 327us/step - loss: 0.0288 - acc: 0.9902 - val_loss: 0.2052 - val_acc: 0.9557\n",
      "Epoch 7/15\n",
      "60000/60000 [==============================] - 20s 333us/step - loss: 0.0267 - acc: 0.9915 - val_loss: 0.2143 - val_acc: 0.9561\n",
      "Epoch 8/15\n",
      "60000/60000 [==============================] - 16s 262us/step - loss: 0.0262 - acc: 0.9916 - val_loss: 0.2096 - val_acc: 0.9553\n",
      "Epoch 9/15\n",
      "60000/60000 [==============================] - 16s 263us/step - loss: 0.0250 - acc: 0.9921 - val_loss: 0.2147 - val_acc: 0.9570\n",
      "Epoch 10/15\n",
      "60000/60000 [==============================] - 16s 259us/step - loss: 0.0194 - acc: 0.9932 - val_loss: 0.2294 - val_acc: 0.9579\n",
      "Epoch 11/15\n",
      "60000/60000 [==============================] - 16s 266us/step - loss: 0.0216 - acc: 0.9933 - val_loss: 0.2254 - val_acc: 0.9597\n",
      "Epoch 12/15\n",
      "60000/60000 [==============================] - 16s 273us/step - loss: 0.0197 - acc: 0.9933 - val_loss: 0.2312 - val_acc: 0.9601\n",
      "Epoch 13/15\n",
      "60000/60000 [==============================] - 16s 271us/step - loss: 0.0132 - acc: 0.9957 - val_loss: 0.2318 - val_acc: 0.9585\n",
      "Epoch 14/15\n",
      "60000/60000 [==============================] - 22s 365us/step - loss: 0.0201 - acc: 0.9943 - val_loss: 0.2618 - val_acc: 0.9541\n",
      "Epoch 15/15\n",
      "60000/60000 [==============================] - 20s 340us/step - loss: 0.0165 - acc: 0.9949 - val_loss: 0.2750 - val_acc: 0.9587\n",
      "10000/10000 [==============================] - 2s 232us/step\n",
      "[0.2749609190355943, 0.9587]\n"
     ]
    }
   ],
   "source": [
    "model = get_ppd_model('mnist')\n",
    "model.compile(optimizer='adam',\n",
    "              loss='sparse_categorical_crossentropy',\n",
    "              metrics=['accuracy'])\n",
    "\n",
    "model.fit(x_train, y_train, epochs=15, verbose=1, batch_size=128, validation_data=(x_test, y_test))\n",
    "model.save('models/mnist_trained_keras_model.hdf5')\n",
    "print(model.evaluate(x_test, y_test))"
   ]
  },
  {
   "cell_type": "markdown",
   "metadata": {},
   "source": [
    "## TRAINING ON CIFAR10 DATASET"
   ]
  },
  {
   "cell_type": "code",
   "execution_count": 5,
   "metadata": {},
   "outputs": [
    {
     "name": "stdout",
     "output_type": "stream",
     "text": [
      "x_train shape (50000, 32, 32, 3)\n",
      "y_train shape (50000, 1)\n",
      "x_test shape (10000, 32, 32, 3)\n",
      "y_test shape (10000, 1)\n"
     ]
    },
    {
     "data": {
      "image/png": "[encoded data removed]",
      "text/plain": [
       "<Figure size 432x288 with 1 Axes>"
      ]
     },
     "metadata": {
      "needs_background": "light"
     },
     "output_type": "display_data"
    },
    {
     "data": {
      "image/png": "[encoded data removed]",
      "text/plain": [
       "<Figure size 432x288 with 1 Axes>"
      ]
     },
     "metadata": {
      "needs_background": "light"
     },
     "output_type": "display_data"
    }
   ],
   "source": [
    "SECRET_SEED = 87\n",
    "(x_train, y_train, x_test, y_test) = get_dataset('cifar10')\n",
    "plt.figure()\n",
    "plt.imshow(x_train[0])\n",
    "plt.title('original image')\n",
    "\n",
    "x_train = permute_pixels(x_train, SECRET_SEED)\n",
    "x_test = permute_pixels(x_test, SECRET_SEED)\n",
    "plt.figure()\n",
    "plt.imshow(x_train[0])\n",
    "plt.title('permuted image')\n",
    "plt.show()"
   ]
  },
  {
   "cell_type": "code",
   "execution_count": 6,
   "metadata": {},
   "outputs": [
    {
     "name": "stdout",
     "output_type": "stream",
     "text": [
      "Train on 50000 samples, validate on 10000 samples\n",
      "Epoch 1/15\n",
      "50000/50000 [==============================] - 40s 799us/step - loss: 1.7677 - acc: 0.4031 - val_loss: 1.5887 - val_acc: 0.4462\n",
      "Epoch 2/15\n",
      "50000/50000 [==============================] - 43s 854us/step - loss: 1.2716 - acc: 0.5569 - val_loss: 1.6046 - val_acc: 0.4595\n",
      "Epoch 3/15\n",
      "50000/50000 [==============================] - 41s 829us/step - loss: 0.9334 - acc: 0.6774 - val_loss: 1.7412 - val_acc: 0.4472\n",
      "Epoch 4/15\n",
      "50000/50000 [==============================] - 39s 777us/step - loss: 0.6037 - acc: 0.7934 - val_loss: 2.0442 - val_acc: 0.4472\n",
      "Epoch 5/15\n",
      "50000/50000 [==============================] - 39s 781us/step - loss: 0.3632 - acc: 0.8761 - val_loss: 2.4070 - val_acc: 0.4326\n",
      "Epoch 6/15\n",
      "50000/50000 [==============================] - 39s 785us/step - loss: 0.2527 - acc: 0.9136 - val_loss: 2.8207 - val_acc: 0.4428\n",
      "Epoch 7/15\n",
      "50000/50000 [==============================] - 41s 822us/step - loss: 0.2028 - acc: 0.9303 - val_loss: 3.1044 - val_acc: 0.4357\n",
      "Epoch 8/15\n",
      "50000/50000 [==============================] - 41s 820us/step - loss: 0.2047 - acc: 0.9298 - val_loss: 3.2654 - val_acc: 0.4416\n",
      "Epoch 9/15\n",
      "50000/50000 [==============================] - 43s 869us/step - loss: 0.1931 - acc: 0.9363 - val_loss: 3.4861 - val_acc: 0.4346\n",
      "Epoch 10/15\n",
      "50000/50000 [==============================] - 43s 856us/step - loss: 0.1507 - acc: 0.9494 - val_loss: 3.5912 - val_acc: 0.4398\n",
      "Epoch 11/15\n",
      "50000/50000 [==============================] - 42s 844us/step - loss: 0.1194 - acc: 0.9600 - val_loss: 3.8491 - val_acc: 0.4383\n",
      "Epoch 12/15\n",
      "50000/50000 [==============================] - 45s 901us/step - loss: 0.1322 - acc: 0.9559 - val_loss: 3.9789 - val_acc: 0.4389\n",
      "Epoch 13/15\n",
      "50000/50000 [==============================] - 44s 878us/step - loss: 0.1488 - acc: 0.9524 - val_loss: 4.0924 - val_acc: 0.4437\n",
      "Epoch 14/15\n",
      "50000/50000 [==============================] - 44s 871us/step - loss: 0.1402 - acc: 0.9548 - val_loss: 4.0860 - val_acc: 0.4423\n",
      "Epoch 15/15\n",
      "50000/50000 [==============================] - 44s 878us/step - loss: 0.1041 - acc: 0.9658 - val_loss: 4.3619 - val_acc: 0.4404\n"
     ]
    }
   ],
   "source": [
    "model = get_ppd_model('cifar10')\n",
    "model.compile(optimizer='adam',\n",
    "              loss='sparse_categorical_crossentropy',\n",
    "              metrics=['accuracy'])\n",
    "\n",
    "model.fit(x_train, y_train, epochs=15, verbose=1, batch_size=128, validation_data=(x_test, y_test))\n",
    "model.save('models/cifar10_trained_keras_model.hdf5')"
   ]
  },
  {
   "cell_type": "code",
   "execution_count": null,
   "metadata": {},
   "outputs": [],
   "source": []
  },
  {
   "cell_type": "code",
   "execution_count": null,
   "metadata": {},
   "outputs": [],
   "source": [
    "# load saved model with these lines\n",
    "#http://everettsprojects.com/2018/01/30/mnist-adversarial-examples.html\n",
    "#import keras\n",
    "#from cleverhans.utils_keras import KerasModelWrapper\n",
    "#from keras.models import load_model\n",
    "#keras.backend.set_learning_phase(False)\n",
    "#keras_model = load_model('models/cifar10_trained_keras_model.hdf5')\n",
    "#wrap = KerasModelWrapper(keras_model)"
   ]
  },
  {
   "cell_type": "code",
   "execution_count": null,
   "metadata": {},
   "outputs": [],
   "source": []
  }
 ],
 "metadata": {
  "kernelspec": {
   "display_name": "Python 3",
   "language": "python",
   "name": "python3"
  },
  "language_info": {
   "codemirror_mode": {
    "name": "ipython",
    "version": 3
   },
   "file_extension": ".py",
   "mimetype": "text/x-python",
   "name": "python",
   "nbconvert_exporter": "python",
   "pygments_lexer": "ipython3",
   "version": "3.6.5"
  }
 },
 "nbformat": 4,
 "nbformat_minor": 2
}
