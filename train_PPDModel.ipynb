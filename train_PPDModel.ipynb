{
 "cells": [
  {
   "cell_type": "code",
   "execution_count": 1,
   "metadata": {},
   "outputs": [
    {
     "name": "stderr",
     "output_type": "stream",
     "text": [
      "Using TensorFlow backend.\n"
     ]
    }
   ],
   "source": [
    "import numpy as np\n",
    "import tensorflow as tf\n",
    "import matplotlib.pyplot as plt\n",
    "from utils import *\n",
    "from sklearn.metrics import roc_curve\n",
    "from keras.callbacks import EarlyStopping\n",
    "from keras import backend\n",
    "from cleverhans.attacks import FastGradientMethod\n",
    "from cleverhans.utils_keras import KerasModelWrapper\n",
    "import matplotlib as mpl\n",
    "from keras.models import load_model\n"
   ]
  },
  {
   "cell_type": "markdown",
   "metadata": {},
   "source": [
    "## TRAINING ON MNIST DATASET"
   ]
  },
  {
   "cell_type": "code",
   "execution_count": null,
   "metadata": {},
   "outputs": [],
   "source": [
    "SECRET_SEED = 87\n",
    "(x_train, y_train, x_test, y_test) = get_dataset('mnist')\n",
    "plt.figure()\n",
    "plt.imshow(x_train[0,:,:,0])\n",
    "plt.title('original image')\n",
    "\n",
    "x_train_shuffle = permute_pixels(x_train, SECRET_SEED)\n",
    "x_test_shuffle = permute_pixels(x_test, SECRET_SEED)\n",
    "plt.figure()\n",
    "plt.imshow(x_train_shuffle[0,:,:,0])\n",
    "plt.title('permuted image')\n",
    "plt.show()"
   ]
  },
  {
   "cell_type": "code",
   "execution_count": null,
   "metadata": {},
   "outputs": [],
   "source": [
    "model = get_ppd_model('mnist')\n",
    "model.compile(optimizer='adam',\n",
    "              loss='sparse_categorical_crossentropy',\n",
    "              metrics=['accuracy'])\n",
    "\n",
    "model.fit(x_train_shuffle, y_train, epochs=5, verbose=1, batch_size=128, validation_data=(x_test_shuffle, y_test))\n",
    "model.save('models/mnist_trained_keras_model.hdf5')\n",
    "print(model.evaluate(x_test_shuffle, y_test))"
   ]
  },
  {
   "cell_type": "markdown",
   "metadata": {},
   "source": [
    "## TRAINING ON CIFAR10 DATASET"
   ]
  },
  {
   "cell_type": "code",
   "execution_count": null,
   "metadata": {},
   "outputs": [],
   "source": [
    "SECRET_SEED = 87\n",
    "(x_train, y_train, x_test, y_test) = get_dataset('cifar10')\n",
    "plt.figure()\n",
    "plt.imshow(x_train[0])\n",
    "plt.title('original image')\n",
    "\n",
    "x_train_shuffle = permute_pixels(x_train, SECRET_SEED)\n",
    "x_test_shuffle = permute_pixels(x_test, SECRET_SEED)\n",
    "plt.figure()\n",
    "plt.imshow(x_train_shuffle[0])\n",
    "plt.title('permuted image')\n",
    "plt.show()"
   ]
  },
  {
   "cell_type": "code",
   "execution_count": null,
   "metadata": {},
   "outputs": [],
   "source": [
    "model = get_ppd_model('cifar10')\n",
    "model.compile(optimizer='adam',\n",
    "              loss='sparse_categorical_crossentropy',\n",
    "              metrics=['accuracy'])\n",
    "\n",
    "model.fit(x_train_shuffle, y_train, epochs=5, verbose=1, batch_size=128, validation_data=(x_test_shuffle, y_test))\n",
    "model.save('models/cifar10_trained_keras_model.hdf5')"
   ]
  },
  {
   "cell_type": "markdown",
   "metadata": {},
   "source": [
    "## Train and Save 10 PPD Models"
   ]
  },
  {
   "cell_type": "code",
   "execution_count": null,
   "metadata": {
    "scrolled": true
   },
   "outputs": [],
   "source": [
    "for dataset in ['mnist','cifar10']:\n",
    "    (x_train, y_train, x_test, y_test) = get_dataset(dataset)\n",
    "\n",
    "    for SECRET_SEED in range(10):\n",
    "        x_train_shuffle = permute_pixels(x_train, SECRET_SEED)\n",
    "        x_test_shuffle = permute_pixels(x_test, SECRET_SEED)\n",
    "        model = get_ppd_model(dataset)\n",
    "        model.compile(optimizer='adam',\n",
    "                  loss='sparse_categorical_crossentropy', metrics=['accuracy'])\n",
    "\n",
    "        model.fit(x_train_shuffle, y_train, epochs=5, verbose=2, batch_size=128, validation_data=(x_test_shuffle, y_test))\n",
    "        model.save('models/'+dataset+'_trained_keras_model_'+str(SECRET_SEED)+'.hdf5')"
   ]
  },
  {
   "cell_type": "markdown",
   "metadata": {},
   "source": [
    "## Test PPD CNN Model on Cifar10"
   ]
  },
  {
   "cell_type": "code",
   "execution_count": 2,
   "metadata": {},
   "outputs": [
    {
     "name": "stdout",
     "output_type": "stream",
     "text": [
      "x_train shape (50000, 32, 32, 3)\n",
      "y_train shape (50000, 1)\n",
      "x_test shape (10000, 32, 32, 3)\n",
      "y_test shape (10000, 1)\n"
     ]
    }
   ],
   "source": [
    "DATASET_NAME = 'cifar10'\n",
    "(x_train, y_train, x_test, y_test) = get_dataset(DATASET_NAME)"
   ]
  },
  {
   "cell_type": "code",
   "execution_count": 3,
   "metadata": {
    "scrolled": true
   },
   "outputs": [
    {
     "name": "stdout",
     "output_type": "stream",
     "text": [
      "_________________________________________________________________\n",
      "Layer (type)                 Output Shape              Param #   \n",
      "=================================================================\n",
      "input_images (InputLayer)    (None, 32, 32, 3)         0         \n",
      "_________________________________________________________________\n",
      "conv2d_1 (Conv2D)            (None, 32, 32, 32)        896       \n",
      "_________________________________________________________________\n",
      "conv2d_2 (Conv2D)            (None, 30, 30, 32)        9248      \n",
      "_________________________________________________________________\n",
      "max_pooling2d_1 (MaxPooling2 (None, 15, 15, 32)        0         \n",
      "_________________________________________________________________\n",
      "dropout_1 (Dropout)          (None, 15, 15, 32)        0         \n",
      "_________________________________________________________________\n",
      "conv2d_3 (Conv2D)            (None, 15, 15, 64)        18496     \n",
      "_________________________________________________________________\n",
      "conv2d_4 (Conv2D)            (None, 15, 15, 64)        36928     \n",
      "_________________________________________________________________\n",
      "max_pooling2d_2 (MaxPooling2 (None, 7, 7, 64)          0         \n",
      "_________________________________________________________________\n",
      "dropout_2 (Dropout)          (None, 7, 7, 64)          0         \n",
      "_________________________________________________________________\n",
      "flatten (Flatten)            (None, 3136)              0         \n",
      "_________________________________________________________________\n",
      "dense_1 (Dense)              (None, 512)               1606144   \n",
      "_________________________________________________________________\n",
      "dropout_3 (Dropout)          (None, 512)               0         \n",
      "_________________________________________________________________\n",
      "dense10 (Dense)              (None, 10)                5130      \n",
      "=================================================================\n",
      "Total params: 1,676,842\n",
      "Trainable params: 1,676,842\n",
      "Non-trainable params: 0\n",
      "_________________________________________________________________\n",
      "Train on 50000 samples, validate on 10000 samples\n",
      "Epoch 1/25\n",
      "50000/50000 [==============================] - 13s 261us/step - loss: 1.5729 - acc: 0.4263 - val_loss: 1.2138 - val_acc: 0.5670\n",
      "Epoch 2/25\n",
      "50000/50000 [==============================] - 11s 223us/step - loss: 1.1531 - acc: 0.5900 - val_loss: 1.0505 - val_acc: 0.6281\n",
      "Epoch 3/25\n",
      "50000/50000 [==============================] - 11s 222us/step - loss: 0.9702 - acc: 0.6593 - val_loss: 0.9092 - val_acc: 0.6804\n",
      "Epoch 4/25\n",
      "50000/50000 [==============================] - 11s 216us/step - loss: 0.8612 - acc: 0.6967 - val_loss: 0.7936 - val_acc: 0.7227\n",
      "Epoch 5/25\n",
      "50000/50000 [==============================] - 11s 221us/step - loss: 0.7832 - acc: 0.7248 - val_loss: 0.7262 - val_acc: 0.7457\n",
      "Epoch 6/25\n",
      "50000/50000 [==============================] - 11s 228us/step - loss: 0.7198 - acc: 0.7486 - val_loss: 0.7089 - val_acc: 0.7507\n",
      "Epoch 7/25\n",
      "50000/50000 [==============================] - 11s 229us/step - loss: 0.6726 - acc: 0.7638 - val_loss: 0.6739 - val_acc: 0.7656\n",
      "Epoch 8/25\n",
      "50000/50000 [==============================] - 11s 222us/step - loss: 0.6276 - acc: 0.7787 - val_loss: 0.6804 - val_acc: 0.7655\n",
      "Epoch 9/25\n",
      "50000/50000 [==============================] - 11s 226us/step - loss: 0.6000 - acc: 0.7895 - val_loss: 0.6565 - val_acc: 0.7723\n",
      "Epoch 10/25\n",
      "50000/50000 [==============================] - 11s 222us/step - loss: 0.5558 - acc: 0.8036 - val_loss: 0.6223 - val_acc: 0.7821\n",
      "Epoch 11/25\n",
      "50000/50000 [==============================] - 11s 222us/step - loss: 0.5241 - acc: 0.8158 - val_loss: 0.6239 - val_acc: 0.7871\n",
      "Epoch 12/25\n",
      "50000/50000 [==============================] - 11s 219us/step - loss: 0.4946 - acc: 0.8240 - val_loss: 0.6309 - val_acc: 0.7861\n"
     ]
    },
    {
     "data": {
      "text/plain": [
       "<keras.callbacks.History at 0x7fcec5d63d68>"
      ]
     },
     "execution_count": 3,
     "metadata": {},
     "output_type": "execute_result"
    }
   ],
   "source": [
    "## JUST CNN\n",
    "\n",
    "cnn_model = get_cnn_model(name=DATASET_NAME, ppd=False)\n",
    "cnn_model.summary()\n",
    "cnn_model.compile(optimizer='adam',\n",
    "              loss='sparse_categorical_crossentropy',\n",
    "              metrics=['accuracy'])\n",
    "\n",
    "cnn_model.fit(x_train, y_train, epochs=25, verbose=1, batch_size=128, validation_data=(x_test, y_test), callbacks=[EarlyStopping(monitor='val_loss', patience=2)])"
   ]
  },
  {
   "cell_type": "code",
   "execution_count": 4,
   "metadata": {
    "scrolled": true
   },
   "outputs": [
    {
     "name": "stdout",
     "output_type": "stream",
     "text": [
      "_________________________________________________________________\n",
      "Layer (type)                 Output Shape              Param #   \n",
      "=================================================================\n",
      "input_images (InputLayer)    (None, 32, 32, 3)         0         \n",
      "_________________________________________________________________\n",
      "pixel2phase (Lambda)         (None, 32, 32, 3)         0         \n",
      "_________________________________________________________________\n",
      "conv2d_5 (Conv2D)            (None, 32, 32, 32)        896       \n",
      "_________________________________________________________________\n",
      "conv2d_6 (Conv2D)            (None, 30, 30, 32)        9248      \n",
      "_________________________________________________________________\n",
      "max_pooling2d_3 (MaxPooling2 (None, 15, 15, 32)        0         \n",
      "_________________________________________________________________\n",
      "dropout_4 (Dropout)          (None, 15, 15, 32)        0         \n",
      "_________________________________________________________________\n",
      "conv2d_7 (Conv2D)            (None, 15, 15, 64)        18496     \n",
      "_________________________________________________________________\n",
      "conv2d_8 (Conv2D)            (None, 15, 15, 64)        36928     \n",
      "_________________________________________________________________\n",
      "max_pooling2d_4 (MaxPooling2 (None, 7, 7, 64)          0         \n",
      "_________________________________________________________________\n",
      "dropout_5 (Dropout)          (None, 7, 7, 64)          0         \n",
      "_________________________________________________________________\n",
      "flatten (Flatten)            (None, 3136)              0         \n",
      "_________________________________________________________________\n",
      "dense_2 (Dense)              (None, 512)               1606144   \n",
      "_________________________________________________________________\n",
      "dropout_6 (Dropout)          (None, 512)               0         \n",
      "_________________________________________________________________\n",
      "dense10 (Dense)              (None, 10)                5130      \n",
      "=================================================================\n",
      "Total params: 1,676,842\n",
      "Trainable params: 1,676,842\n",
      "Non-trainable params: 0\n",
      "_________________________________________________________________\n",
      "Train on 50000 samples, validate on 10000 samples\n",
      "Epoch 1/50\n",
      "50000/50000 [==============================] - 15s 304us/step - loss: 2.1275 - acc: 0.2070 - val_loss: 1.9017 - val_acc: 0.3190\n",
      "Epoch 2/50\n",
      "50000/50000 [==============================] - 14s 276us/step - loss: 1.8982 - acc: 0.3207 - val_loss: 1.8294 - val_acc: 0.3454\n",
      "Epoch 3/50\n",
      "50000/50000 [==============================] - 14s 284us/step - loss: 1.8142 - acc: 0.3536 - val_loss: 1.7484 - val_acc: 0.3756\n",
      "Epoch 4/50\n",
      "50000/50000 [==============================] - 14s 287us/step - loss: 1.7623 - acc: 0.3749 - val_loss: 1.7108 - val_acc: 0.3906\n",
      "Epoch 5/50\n",
      "50000/50000 [==============================] - 14s 283us/step - loss: 1.7182 - acc: 0.3875 - val_loss: 1.6884 - val_acc: 0.3952\n",
      "Epoch 6/50\n",
      "50000/50000 [==============================] - 14s 283us/step - loss: 1.6819 - acc: 0.4015 - val_loss: 1.6676 - val_acc: 0.4027\n",
      "Epoch 7/50\n",
      "50000/50000 [==============================] - 14s 283us/step - loss: 1.6572 - acc: 0.4106 - val_loss: 1.6694 - val_acc: 0.4027\n",
      "Epoch 8/50\n",
      "50000/50000 [==============================] - 14s 276us/step - loss: 1.6322 - acc: 0.4190 - val_loss: 1.6542 - val_acc: 0.4056\n",
      "Epoch 9/50\n",
      "50000/50000 [==============================] - 14s 280us/step - loss: 1.6090 - acc: 0.4226 - val_loss: 1.6480 - val_acc: 0.4080\n",
      "Epoch 10/50\n",
      "50000/50000 [==============================] - 14s 279us/step - loss: 1.5937 - acc: 0.4302 - val_loss: 1.6348 - val_acc: 0.4157\n",
      "Epoch 11/50\n",
      "50000/50000 [==============================] - 14s 285us/step - loss: 1.5664 - acc: 0.4398 - val_loss: 1.6504 - val_acc: 0.4178\n",
      "Epoch 12/50\n",
      "50000/50000 [==============================] - 14s 275us/step - loss: 1.5477 - acc: 0.4445 - val_loss: 1.6339 - val_acc: 0.4196\n",
      "Epoch 13/50\n",
      "50000/50000 [==============================] - 14s 286us/step - loss: 1.5283 - acc: 0.4551 - val_loss: 1.6331 - val_acc: 0.4142\n",
      "Epoch 14/50\n",
      "50000/50000 [==============================] - 14s 289us/step - loss: 1.5105 - acc: 0.4625 - val_loss: 1.6355 - val_acc: 0.4191\n",
      "Epoch 15/50\n",
      "50000/50000 [==============================] - 14s 278us/step - loss: 1.4884 - acc: 0.4703 - val_loss: 1.6467 - val_acc: 0.4153\n"
     ]
    },
    {
     "data": {
      "text/plain": [
       "<keras.callbacks.History at 0x7fcec5640780>"
      ]
     },
     "execution_count": 4,
     "metadata": {},
     "output_type": "execute_result"
    }
   ],
   "source": [
    "## CNN + PPD, SEED 87\n",
    "\n",
    "SECRET_SEED = 87\n",
    "x_train_shuffle = permute_pixels(x_train, SECRET_SEED)\n",
    "x_test_shuffle = permute_pixels(x_test, SECRET_SEED)\n",
    "\n",
    "ppd_cnn_model = get_cnn_model(name=DATASET_NAME, ppd=True)\n",
    "ppd_cnn_model.summary()\n",
    "ppd_cnn_model.compile(optimizer='adam',\n",
    "              loss='sparse_categorical_crossentropy',\n",
    "              metrics=['accuracy'])\n",
    "\n",
    "ppd_cnn_model.fit(x_train_shuffle, y_train, epochs=50, verbose=1, batch_size=128, validation_data=(x_test_shuffle, y_test), callbacks=[EarlyStopping(monitor='val_loss', patience=2)])"
   ]
  },
  {
   "cell_type": "code",
   "execution_count": 5,
   "metadata": {
    "scrolled": true
   },
   "outputs": [
    {
     "name": "stdout",
     "output_type": "stream",
     "text": [
      "_________________________________________________________________\n",
      "Layer (type)                 Output Shape              Param #   \n",
      "=================================================================\n",
      "input_images (InputLayer)    (None, 32, 32, 3)         0         \n",
      "_________________________________________________________________\n",
      "pixel2phase (Lambda)         (None, 32, 32, 3)         0         \n",
      "_________________________________________________________________\n",
      "conv2d_9 (Conv2D)            (None, 32, 32, 32)        896       \n",
      "_________________________________________________________________\n",
      "conv2d_10 (Conv2D)           (None, 30, 30, 32)        9248      \n",
      "_________________________________________________________________\n",
      "max_pooling2d_5 (MaxPooling2 (None, 15, 15, 32)        0         \n",
      "_________________________________________________________________\n",
      "dropout_7 (Dropout)          (None, 15, 15, 32)        0         \n",
      "_________________________________________________________________\n",
      "conv2d_11 (Conv2D)           (None, 15, 15, 64)        18496     \n",
      "_________________________________________________________________\n",
      "conv2d_12 (Conv2D)           (None, 15, 15, 64)        36928     \n",
      "_________________________________________________________________\n",
      "max_pooling2d_6 (MaxPooling2 (None, 7, 7, 64)          0         \n",
      "_________________________________________________________________\n",
      "dropout_8 (Dropout)          (None, 7, 7, 64)          0         \n",
      "_________________________________________________________________\n",
      "flatten (Flatten)            (None, 3136)              0         \n",
      "_________________________________________________________________\n",
      "dense_3 (Dense)              (None, 512)               1606144   \n",
      "_________________________________________________________________\n",
      "dropout_9 (Dropout)          (None, 512)               0         \n",
      "_________________________________________________________________\n",
      "dense10 (Dense)              (None, 10)                5130      \n",
      "=================================================================\n",
      "Total params: 1,676,842\n",
      "Trainable params: 1,676,842\n",
      "Non-trainable params: 0\n",
      "_________________________________________________________________\n",
      "Train on 50000 samples, validate on 10000 samples\n",
      "Epoch 1/50\n",
      "50000/50000 [==============================] - 15s 296us/step - loss: 2.1431 - acc: 0.2047 - val_loss: 1.9125 - val_acc: 0.3134\n",
      "Epoch 2/50\n",
      "50000/50000 [==============================] - 14s 281us/step - loss: 1.9116 - acc: 0.3143 - val_loss: 1.8112 - val_acc: 0.3571\n",
      "Epoch 3/50\n",
      "50000/50000 [==============================] - 14s 281us/step - loss: 1.8197 - acc: 0.3481 - val_loss: 1.7486 - val_acc: 0.3713\n",
      "Epoch 4/50\n",
      "50000/50000 [==============================] - 14s 284us/step - loss: 1.7615 - acc: 0.3690 - val_loss: 1.6985 - val_acc: 0.3917\n",
      "Epoch 5/50\n",
      "50000/50000 [==============================] - 14s 278us/step - loss: 1.7212 - acc: 0.3867 - val_loss: 1.6841 - val_acc: 0.3945\n",
      "Epoch 6/50\n",
      "50000/50000 [==============================] - 14s 278us/step - loss: 1.6860 - acc: 0.3994 - val_loss: 1.6711 - val_acc: 0.4042\n",
      "Epoch 7/50\n",
      "50000/50000 [==============================] - 14s 280us/step - loss: 1.6550 - acc: 0.4097 - val_loss: 1.6821 - val_acc: 0.4026\n",
      "Epoch 8/50\n",
      "50000/50000 [==============================] - 14s 279us/step - loss: 1.6261 - acc: 0.4231 - val_loss: 1.6508 - val_acc: 0.4126\n",
      "Epoch 9/50\n",
      "50000/50000 [==============================] - 14s 278us/step - loss: 1.6034 - acc: 0.4290 - val_loss: 1.6556 - val_acc: 0.4134\n",
      "Epoch 10/50\n",
      "50000/50000 [==============================] - 14s 280us/step - loss: 1.5821 - acc: 0.4357 - val_loss: 1.6396 - val_acc: 0.4158\n",
      "Epoch 11/50\n",
      "50000/50000 [==============================] - 14s 282us/step - loss: 1.5561 - acc: 0.4438 - val_loss: 1.6354 - val_acc: 0.4191\n",
      "Epoch 12/50\n",
      "50000/50000 [==============================] - 14s 273us/step - loss: 1.5448 - acc: 0.4472 - val_loss: 1.6306 - val_acc: 0.4202\n",
      "Epoch 13/50\n",
      "50000/50000 [==============================] - 14s 277us/step - loss: 1.5151 - acc: 0.4583 - val_loss: 1.6323 - val_acc: 0.4215\n",
      "Epoch 14/50\n",
      "50000/50000 [==============================] - 14s 282us/step - loss: 1.4987 - acc: 0.4645 - val_loss: 1.6375 - val_acc: 0.4218\n"
     ]
    },
    {
     "data": {
      "text/plain": [
       "<keras.callbacks.History at 0x7fcec44579e8>"
      ]
     },
     "execution_count": 5,
     "metadata": {},
     "output_type": "execute_result"
    }
   ],
   "source": [
    "## CNN + PPD, SEED 23\n",
    "\n",
    "OTHER_SEED = 23\n",
    "x_train_shuffle = permute_pixels(x_train, OTHER_SEED)\n",
    "x_test_shuffle = permute_pixels(x_test, OTHER_SEED)\n",
    "\n",
    "unknown_model = get_cnn_model(name=DATASET_NAME, ppd=True)\n",
    "unknown_model.summary()\n",
    "unknown_model.compile(optimizer='adam',\n",
    "              loss='sparse_categorical_crossentropy',\n",
    "              metrics=['accuracy'])\n",
    "\n",
    "unknown_model.fit(x_train_shuffle, y_train, epochs=50, verbose=1, batch_size=128, validation_data=(x_test_shuffle, y_test), callbacks=[EarlyStopping(monitor='val_loss', patience=2)])"
   ]
  },
  {
   "cell_type": "code",
   "execution_count": 6,
   "metadata": {
    "scrolled": true
   },
   "outputs": [
    {
     "name": "stdout",
     "output_type": "stream",
     "text": [
      "_________________________________________________________________\n",
      "Layer (type)                 Output Shape              Param #   \n",
      "=================================================================\n",
      "input_images (InputLayer)    (None, 32, 32, 3)         0         \n",
      "_________________________________________________________________\n",
      "pixel2phase (Lambda)         (None, 32, 32, 3)         0         \n",
      "_________________________________________________________________\n",
      "conv2d_13 (Conv2D)           (None, 32, 32, 32)        896       \n",
      "_________________________________________________________________\n",
      "conv2d_14 (Conv2D)           (None, 30, 30, 32)        9248      \n",
      "_________________________________________________________________\n",
      "max_pooling2d_7 (MaxPooling2 (None, 15, 15, 32)        0         \n",
      "_________________________________________________________________\n",
      "dropout_10 (Dropout)         (None, 15, 15, 32)        0         \n",
      "_________________________________________________________________\n",
      "conv2d_15 (Conv2D)           (None, 15, 15, 64)        18496     \n",
      "_________________________________________________________________\n",
      "conv2d_16 (Conv2D)           (None, 15, 15, 64)        36928     \n",
      "_________________________________________________________________\n",
      "max_pooling2d_8 (MaxPooling2 (None, 7, 7, 64)          0         \n",
      "_________________________________________________________________\n",
      "dropout_11 (Dropout)         (None, 7, 7, 64)          0         \n",
      "_________________________________________________________________\n",
      "flatten (Flatten)            (None, 3136)              0         \n",
      "_________________________________________________________________\n",
      "dense_4 (Dense)              (None, 512)               1606144   \n",
      "_________________________________________________________________\n",
      "dropout_12 (Dropout)         (None, 512)               0         \n",
      "_________________________________________________________________\n",
      "dense10 (Dense)              (None, 10)                5130      \n",
      "=================================================================\n",
      "Total params: 1,676,842\n",
      "Trainable params: 1,676,842\n",
      "Non-trainable params: 0\n",
      "_________________________________________________________________\n",
      "Train on 50000 samples, validate on 10000 samples\n",
      "Epoch 1/50\n",
      "50000/50000 [==============================] - 15s 290us/step - loss: 2.0533 - acc: 0.2351 - val_loss: 1.6958 - val_acc: 0.3927\n",
      "Epoch 2/50\n",
      "50000/50000 [==============================] - 14s 279us/step - loss: 1.6824 - acc: 0.3982 - val_loss: 1.5464 - val_acc: 0.4551\n",
      "Epoch 3/50\n",
      "50000/50000 [==============================] - 14s 281us/step - loss: 1.5587 - acc: 0.4492 - val_loss: 1.4405 - val_acc: 0.4898\n",
      "Epoch 4/50\n",
      "50000/50000 [==============================] - 14s 281us/step - loss: 1.4596 - acc: 0.4829 - val_loss: 1.3863 - val_acc: 0.5168\n",
      "Epoch 5/50\n",
      "50000/50000 [==============================] - 14s 284us/step - loss: 1.3896 - acc: 0.5088 - val_loss: 1.3573 - val_acc: 0.5281\n",
      "Epoch 6/50\n",
      "50000/50000 [==============================] - 14s 283us/step - loss: 1.3294 - acc: 0.5285 - val_loss: 1.3062 - val_acc: 0.5462\n",
      "Epoch 7/50\n",
      "50000/50000 [==============================] - 14s 279us/step - loss: 1.2801 - acc: 0.5486 - val_loss: 1.2756 - val_acc: 0.5536\n",
      "Epoch 8/50\n",
      "50000/50000 [==============================] - 14s 279us/step - loss: 1.2337 - acc: 0.5686 - val_loss: 1.2497 - val_acc: 0.5623\n",
      "Epoch 9/50\n",
      "50000/50000 [==============================] - 14s 277us/step - loss: 1.1949 - acc: 0.5808 - val_loss: 1.2154 - val_acc: 0.5781\n",
      "Epoch 10/50\n",
      "50000/50000 [==============================] - 14s 282us/step - loss: 1.1537 - acc: 0.5955 - val_loss: 1.2157 - val_acc: 0.5757\n",
      "Epoch 11/50\n",
      "50000/50000 [==============================] - 14s 281us/step - loss: 1.1243 - acc: 0.6046 - val_loss: 1.2253 - val_acc: 0.5764\n"
     ]
    },
    {
     "data": {
      "text/plain": [
       "<keras.callbacks.History at 0x7fcec6111cf8>"
      ]
     },
     "execution_count": 6,
     "metadata": {},
     "output_type": "execute_result"
    }
   ],
   "source": [
    "## CNN + phase\n",
    "\n",
    "phase_cnn_model = get_cnn_model(name=DATASET_NAME, ppd=True)\n",
    "phase_cnn_model.summary()\n",
    "phase_cnn_model.compile(optimizer='adam',\n",
    "              loss='sparse_categorical_crossentropy',\n",
    "              metrics=['accuracy'])\n",
    "\n",
    "phase_cnn_model.fit(x_train, y_train, epochs=50, verbose=1, batch_size=128, validation_data=(x_test, y_test), callbacks=[EarlyStopping(monitor='val_loss', patience=2)])"
   ]
  },
  {
   "cell_type": "code",
   "execution_count": 8,
   "metadata": {
    "scrolled": true
   },
   "outputs": [
    {
     "name": "stdout",
     "output_type": "stream",
     "text": [
      "_________________________________________________________________\n",
      "Layer (type)                 Output Shape              Param #   \n",
      "=================================================================\n",
      "input_images (InputLayer)    (None, 32, 32, 3)         0         \n",
      "_________________________________________________________________\n",
      "conv2d_21 (Conv2D)           (None, 32, 32, 32)        896       \n",
      "_________________________________________________________________\n",
      "conv2d_22 (Conv2D)           (None, 30, 30, 32)        9248      \n",
      "_________________________________________________________________\n",
      "max_pooling2d_11 (MaxPooling (None, 15, 15, 32)        0         \n",
      "_________________________________________________________________\n",
      "dropout_16 (Dropout)         (None, 15, 15, 32)        0         \n",
      "_________________________________________________________________\n",
      "conv2d_23 (Conv2D)           (None, 15, 15, 64)        18496     \n",
      "_________________________________________________________________\n",
      "conv2d_24 (Conv2D)           (None, 15, 15, 64)        36928     \n",
      "_________________________________________________________________\n",
      "max_pooling2d_12 (MaxPooling (None, 7, 7, 64)          0         \n",
      "_________________________________________________________________\n",
      "dropout_17 (Dropout)         (None, 7, 7, 64)          0         \n",
      "_________________________________________________________________\n",
      "flatten (Flatten)            (None, 3136)              0         \n",
      "_________________________________________________________________\n",
      "dense_6 (Dense)              (None, 512)               1606144   \n",
      "_________________________________________________________________\n",
      "dropout_18 (Dropout)         (None, 512)               0         \n",
      "_________________________________________________________________\n",
      "dense10 (Dense)              (None, 10)                5130      \n",
      "=================================================================\n",
      "Total params: 1,676,842\n",
      "Trainable params: 1,676,842\n",
      "Non-trainable params: 0\n",
      "_________________________________________________________________\n",
      "Train on 50000 samples, validate on 10000 samples\n",
      "Epoch 1/50\n",
      "50000/50000 [==============================] - 12s 241us/step - loss: 1.9842 - acc: 0.2553 - val_loss: 1.7798 - val_acc: 0.3573\n",
      "Epoch 2/50\n",
      "50000/50000 [==============================] - 11s 226us/step - loss: 1.7409 - acc: 0.3698 - val_loss: 1.5801 - val_acc: 0.4358\n",
      "Epoch 3/50\n",
      "50000/50000 [==============================] - 11s 219us/step - loss: 1.6213 - acc: 0.4161 - val_loss: 1.4958 - val_acc: 0.4570\n",
      "Epoch 4/50\n",
      "50000/50000 [==============================] - 11s 220us/step - loss: 1.5568 - acc: 0.4415 - val_loss: 1.4673 - val_acc: 0.4720\n",
      "Epoch 5/50\n",
      "50000/50000 [==============================] - 11s 222us/step - loss: 1.5065 - acc: 0.4596 - val_loss: 1.4375 - val_acc: 0.4820\n",
      "Epoch 6/50\n",
      "50000/50000 [==============================] - 11s 220us/step - loss: 1.4666 - acc: 0.4712 - val_loss: 1.4128 - val_acc: 0.4937\n",
      "Epoch 7/50\n",
      "50000/50000 [==============================] - 11s 227us/step - loss: 1.4380 - acc: 0.4850 - val_loss: 1.3989 - val_acc: 0.4951\n",
      "Epoch 8/50\n",
      "50000/50000 [==============================] - 11s 229us/step - loss: 1.4081 - acc: 0.4951 - val_loss: 1.3637 - val_acc: 0.5110\n",
      "Epoch 9/50\n",
      "50000/50000 [==============================] - 11s 225us/step - loss: 1.3832 - acc: 0.5023 - val_loss: 1.3573 - val_acc: 0.5126\n",
      "Epoch 10/50\n",
      "50000/50000 [==============================] - 11s 226us/step - loss: 1.3578 - acc: 0.5130 - val_loss: 1.3571 - val_acc: 0.5108\n",
      "Epoch 11/50\n",
      "50000/50000 [==============================] - 11s 223us/step - loss: 1.3388 - acc: 0.5207 - val_loss: 1.3432 - val_acc: 0.5184\n",
      "Epoch 12/50\n",
      "50000/50000 [==============================] - 12s 234us/step - loss: 1.3179 - acc: 0.5280 - val_loss: 1.3154 - val_acc: 0.5251\n",
      "Epoch 13/50\n",
      "50000/50000 [==============================] - 11s 228us/step - loss: 1.2987 - acc: 0.5336 - val_loss: 1.3305 - val_acc: 0.5247\n",
      "Epoch 14/50\n",
      "50000/50000 [==============================] - 11s 225us/step - loss: 1.2773 - acc: 0.5425 - val_loss: 1.3265 - val_acc: 0.5247\n"
     ]
    },
    {
     "data": {
      "text/plain": [
       "<keras.callbacks.History at 0x7fce19fa70b8>"
      ]
     },
     "execution_count": 8,
     "metadata": {},
     "output_type": "execute_result"
    }
   ],
   "source": [
    "## CNN + Permutation, SEED 87\n",
    "\n",
    "SECRET_SEED = 87\n",
    "x_train_shuffle = permute_pixels(x_train, SECRET_SEED)\n",
    "x_test_shuffle = permute_pixels(x_test, SECRET_SEED)\n",
    "\n",
    "perm_cnn_model = get_cnn_model(name=DATASET_NAME, ppd=False)\n",
    "perm_cnn_model.summary()\n",
    "perm_cnn_model.compile(optimizer='adam',\n",
    "              loss='sparse_categorical_crossentropy',\n",
    "              metrics=['accuracy'])\n",
    "\n",
    "perm_cnn_model.fit(x_train_shuffle, y_train, epochs=50, verbose=1, batch_size=128, validation_data=(x_test_shuffle, y_test), callbacks=[EarlyStopping(monitor='val_loss', patience=2)])"
   ]
  },
  {
   "cell_type": "code",
   "execution_count": 10,
   "metadata": {
    "scrolled": true
   },
   "outputs": [
    {
     "name": "stdout",
     "output_type": "stream",
     "text": [
      "_________________________________________________________________\n",
      "Layer (type)                 Output Shape              Param #   \n",
      "=================================================================\n",
      "input_images (InputLayer)    (None, 32, 32, 3)         0         \n",
      "_________________________________________________________________\n",
      "conv2d_29 (Conv2D)           (None, 32, 32, 32)        896       \n",
      "_________________________________________________________________\n",
      "conv2d_30 (Conv2D)           (None, 30, 30, 32)        9248      \n",
      "_________________________________________________________________\n",
      "max_pooling2d_15 (MaxPooling (None, 15, 15, 32)        0         \n",
      "_________________________________________________________________\n",
      "dropout_22 (Dropout)         (None, 15, 15, 32)        0         \n",
      "_________________________________________________________________\n",
      "conv2d_31 (Conv2D)           (None, 15, 15, 64)        18496     \n",
      "_________________________________________________________________\n",
      "conv2d_32 (Conv2D)           (None, 15, 15, 64)        36928     \n",
      "_________________________________________________________________\n",
      "max_pooling2d_16 (MaxPooling (None, 7, 7, 64)          0         \n",
      "_________________________________________________________________\n",
      "dropout_23 (Dropout)         (None, 7, 7, 64)          0         \n",
      "_________________________________________________________________\n",
      "flatten (Flatten)            (None, 3136)              0         \n",
      "_________________________________________________________________\n",
      "dense_8 (Dense)              (None, 512)               1606144   \n",
      "_________________________________________________________________\n",
      "dropout_24 (Dropout)         (None, 512)               0         \n",
      "_________________________________________________________________\n",
      "dense10 (Dense)              (None, 10)                5130      \n",
      "=================================================================\n",
      "Total params: 1,676,842\n",
      "Trainable params: 1,676,842\n",
      "Non-trainable params: 0\n",
      "_________________________________________________________________\n",
      "Train on 50000 samples, validate on 10000 samples\n",
      "Epoch 1/50\n",
      "50000/50000 [==============================] - 12s 238us/step - loss: 1.9752 - acc: 0.2608 - val_loss: 1.7662 - val_acc: 0.3595\n",
      "Epoch 2/50\n",
      "50000/50000 [==============================] - 11s 221us/step - loss: 1.7402 - acc: 0.3677 - val_loss: 1.6346 - val_acc: 0.4246\n",
      "Epoch 3/50\n",
      "50000/50000 [==============================] - 11s 223us/step - loss: 1.6294 - acc: 0.4135 - val_loss: 1.5152 - val_acc: 0.4565\n",
      "Epoch 4/50\n",
      "50000/50000 [==============================] - 11s 222us/step - loss: 1.5655 - acc: 0.4382 - val_loss: 1.4776 - val_acc: 0.4700\n",
      "Epoch 5/50\n",
      "50000/50000 [==============================] - 11s 219us/step - loss: 1.5147 - acc: 0.4586 - val_loss: 1.4253 - val_acc: 0.4879\n",
      "Epoch 6/50\n",
      "50000/50000 [==============================] - 11s 222us/step - loss: 1.4759 - acc: 0.4695 - val_loss: 1.4127 - val_acc: 0.4920\n",
      "Epoch 7/50\n",
      "50000/50000 [==============================] - 11s 222us/step - loss: 1.4439 - acc: 0.4824 - val_loss: 1.3965 - val_acc: 0.5007\n",
      "Epoch 8/50\n",
      "50000/50000 [==============================] - 12s 231us/step - loss: 1.4159 - acc: 0.4922 - val_loss: 1.3681 - val_acc: 0.5114\n",
      "Epoch 9/50\n",
      "50000/50000 [==============================] - 11s 219us/step - loss: 1.3783 - acc: 0.5049 - val_loss: 1.3398 - val_acc: 0.5215\n",
      "Epoch 10/50\n",
      "50000/50000 [==============================] - 11s 218us/step - loss: 1.3546 - acc: 0.5139 - val_loss: 1.3268 - val_acc: 0.5293\n",
      "Epoch 11/50\n",
      "50000/50000 [==============================] - 11s 224us/step - loss: 1.3361 - acc: 0.5201 - val_loss: 1.3179 - val_acc: 0.5238\n",
      "Epoch 12/50\n",
      "50000/50000 [==============================] - 11s 228us/step - loss: 1.3176 - acc: 0.5281 - val_loss: 1.3223 - val_acc: 0.5307\n",
      "Epoch 13/50\n",
      "50000/50000 [==============================] - 11s 218us/step - loss: 1.2900 - acc: 0.5402 - val_loss: 1.3189 - val_acc: 0.5313\n"
     ]
    },
    {
     "data": {
      "text/plain": [
       "<keras.callbacks.History at 0x7fce1a128438>"
      ]
     },
     "execution_count": 10,
     "metadata": {},
     "output_type": "execute_result"
    }
   ],
   "source": [
    "## CNN + Permutation, SEED 23\n",
    "\n",
    "OTHER_SEED = 23\n",
    "x_train_shuffle = permute_pixels(x_train, OTHER_SEED)\n",
    "x_test_shuffle = permute_pixels(x_test, OTHER_SEED)\n",
    "\n",
    "perm_cnn_model2 = get_cnn_model(name=DATASET_NAME, ppd=False)\n",
    "perm_cnn_model2.summary()\n",
    "perm_cnn_model2.compile(optimizer='adam',\n",
    "              loss='sparse_categorical_crossentropy',\n",
    "              metrics=['accuracy'])\n",
    "\n",
    "perm_cnn_model2.fit(x_train_shuffle, y_train, epochs=50, verbose=1, batch_size=128, validation_data=(x_test_shuffle, y_test), callbacks=[EarlyStopping(monitor='val_loss', patience=2)])"
   ]
  },
  {
   "cell_type": "code",
   "execution_count": 12,
   "metadata": {},
   "outputs": [],
   "source": [
    "## Get adv from CNN, CNN+PPD (87), CNN + Phase, CNN + Perm (87)\n",
    "\n",
    "sess =  backend.get_session()\n",
    "backend.set_learning_phase(False)\n",
    "attack_params = {\n",
    "    'eps': 0.4\n",
    "    }\n",
    "\n",
    "def get_adv_exapmles(model, x, sess, attack_params):\n",
    "    wrap = KerasModelWrapper(model)\n",
    "    attack_model = FastGradientMethod(wrap, sess=sess)\n",
    "    x_adv = attack_model.generate_np(x, **attack_params)\n",
    "    return x_adv\n",
    "\n",
    "x_adv_cnn = get_adv_exapmles(cnn_model, x_test, sess, attack_params)\n",
    "x_adv_phase = get_adv_exapmles(phase_cnn_model, x_test, sess, attack_params)\n",
    "x_adv_perm = get_adv_exapmles(perm_cnn_model, x_test, sess, attack_params)\n",
    "x_adv_ppd = get_adv_exapmles(ppd_cnn_model, x_test, sess, attack_params)"
   ]
  },
  {
   "cell_type": "code",
   "execution_count": 13,
   "metadata": {},
   "outputs": [
    {
     "name": "stdout",
     "output_type": "stream",
     "text": [
      "CNN acc normally 0.7861\n",
      "CNN acc adv 0.136\n",
      "Phase CNN acc normally 0.5764\n",
      "Phase CNN acc adv 0.2084\n",
      "Perm CNN known seed acc normally 0.5247\n",
      "Perm CNN known seed acc adv 0.1413\n",
      "Perm CNN hidden seed acc normally 0.5313\n",
      "Perm CNN hidden seed acc normally 0.1508\n",
      "PPD CNN acc normally 0.4153\n",
      "PPD CNN acc adv 0.2154\n",
      "PPD CNN with secret seed normally acc 0.4218\n",
      "PPD CNN with secret seed adv acc 0.2043\n"
     ]
    }
   ],
   "source": [
    "## Test cnn_adv on cnn, test cnn+ppd (87) adv on cnn+ppd (87) and cnn+ppd (23)\n",
    "\n",
    "def test_model(model, x, y):\n",
    "    pred = np.argmax(model.predict(x), axis = 1)\n",
    "    acc =  np.mean(np.equal(pred.reshape(y.shape), y))\n",
    "    return (pred, acc)\n",
    "\n",
    "pred, acc = test_model(cnn_model, x_test, y_test)\n",
    "print ('CNN acc normally', acc)\n",
    "pred, acc = test_model(cnn_model, x_adv_cnn, y_test)\n",
    "print ('CNN acc adv', acc)\n",
    "\n",
    "pred, acc = test_model(phase_cnn_model, x_test, y_test)\n",
    "print ('Phase CNN acc normally', acc)\n",
    "pred, acc = test_model(phase_cnn_model, x_adv_phase, y_test)\n",
    "print ('Phase CNN acc adv', acc)\n",
    "\n",
    "x_shuffle = permute_pixels(x_test, SECRET_SEED)\n",
    "x_adv_shuffle = permute_pixels(x_adv_perm, SECRET_SEED)\n",
    "\n",
    "pred, acc = test_model(perm_cnn_model, x_shuffle, y_test)\n",
    "print ('Perm CNN known seed acc normally', acc)\n",
    "pred, acc = test_model(perm_cnn_model, x_adv_shuffle, y_test)\n",
    "print ('Perm CNN known seed acc adv', acc)\n",
    "\n",
    "x_shuffle = permute_pixels(x_test, OTHER_SEED)\n",
    "x_adv_shuffle = permute_pixels(x_adv_perm, OTHER_SEED)\n",
    "\n",
    "pred, acc = test_model(perm_cnn_model2, x_shuffle, y_test)\n",
    "print ('Perm CNN hidden seed acc normally', acc)\n",
    "pred, acc = test_model(perm_cnn_model2, x_adv_shuffle, y_test)\n",
    "print ('Perm CNN hidden seed acc normally', acc)\n",
    "\n",
    "x_shuffle = permute_pixels(x_test, SECRET_SEED)\n",
    "x_adv_shuffle = permute_pixels(x_adv_ppd, SECRET_SEED)\n",
    "\n",
    "pred, acc = test_model(ppd_cnn_model, x_shuffle, y_test)\n",
    "print ('PPD CNN acc normally', acc)\n",
    "pred, acc = test_model(ppd_cnn_model, x_adv_shuffle, y_test)\n",
    "print ('PPD CNN acc adv', acc)\n",
    "\n",
    "x_shuffle = permute_pixels(x_test, OTHER_SEED)\n",
    "x_adv_shuffle = permute_pixels(x_adv_ppd, OTHER_SEED)\n",
    "\n",
    "pred, acc = test_model(unknown_model, x_shuffle, y_test)\n",
    "print ('PPD CNN with secret seed normally acc', acc)\n",
    "pred, acc = test_model(unknown_model, x_adv_shuffle, y_test)\n",
    "print ('PPD CNN with secret seed adv acc', acc)"
   ]
  },
  {
   "cell_type": "code",
   "execution_count": null,
   "metadata": {},
   "outputs": [],
   "source": []
  },
  {
   "cell_type": "code",
   "execution_count": 14,
   "metadata": {
    "scrolled": true
   },
   "outputs": [
    {
     "name": "stdout",
     "output_type": "stream",
     "text": [
      "_________________________________________________________________\n",
      "Layer (type)                 Output Shape              Param #   \n",
      "=================================================================\n",
      "input_images (InputLayer)    (None, 32, 32, 3)         0         \n",
      "_________________________________________________________________\n",
      "flatten (Flatten)            (None, 3072)              0         \n",
      "_________________________________________________________________\n",
      "dense800 (Dense)             (None, 800)               2458400   \n",
      "_________________________________________________________________\n",
      "dense300 (Dense)             (None, 300)               240300    \n",
      "_________________________________________________________________\n",
      "dense10 (Dense)              (None, 10)                3010      \n",
      "=================================================================\n",
      "Total params: 2,701,710\n",
      "Trainable params: 2,701,710\n",
      "Non-trainable params: 0\n",
      "_________________________________________________________________\n",
      "Train on 50000 samples, validate on 10000 samples\n",
      "Epoch 1/25\n",
      "50000/50000 [==============================] - 4s 87us/step - loss: 1.9012 - acc: 0.3222 - val_loss: 1.7241 - val_acc: 0.3801\n",
      "Epoch 2/25\n",
      "50000/50000 [==============================] - 4s 73us/step - loss: 1.6802 - acc: 0.4010 - val_loss: 1.6423 - val_acc: 0.4157\n",
      "Epoch 3/25\n",
      "50000/50000 [==============================] - 4s 76us/step - loss: 1.5939 - acc: 0.4333 - val_loss: 1.5391 - val_acc: 0.4535\n",
      "Epoch 4/25\n",
      "50000/50000 [==============================] - 4s 74us/step - loss: 1.5263 - acc: 0.4556 - val_loss: 1.5143 - val_acc: 0.4618\n",
      "Epoch 5/25\n",
      "50000/50000 [==============================] - 4s 74us/step - loss: 1.4895 - acc: 0.4679 - val_loss: 1.5022 - val_acc: 0.4623\n",
      "Epoch 6/25\n",
      "50000/50000 [==============================] - 4s 73us/step - loss: 1.4551 - acc: 0.4813 - val_loss: 1.5045 - val_acc: 0.4661\n",
      "Epoch 7/25\n",
      "50000/50000 [==============================] - 4s 73us/step - loss: 1.4254 - acc: 0.4924 - val_loss: 1.4904 - val_acc: 0.4682\n",
      "Epoch 8/25\n",
      "50000/50000 [==============================] - 4s 74us/step - loss: 1.3861 - acc: 0.5084 - val_loss: 1.4389 - val_acc: 0.4920\n",
      "Epoch 9/25\n",
      "50000/50000 [==============================] - 4s 73us/step - loss: 1.3611 - acc: 0.5154 - val_loss: 1.4120 - val_acc: 0.4957\n",
      "Epoch 10/25\n",
      "50000/50000 [==============================] - 4s 73us/step - loss: 1.3339 - acc: 0.5250 - val_loss: 1.4536 - val_acc: 0.4857\n",
      "Epoch 11/25\n",
      "50000/50000 [==============================] - 4s 74us/step - loss: 1.3065 - acc: 0.5366 - val_loss: 1.3904 - val_acc: 0.5043\n",
      "Epoch 12/25\n",
      "50000/50000 [==============================] - 4s 73us/step - loss: 1.2914 - acc: 0.5417 - val_loss: 1.3668 - val_acc: 0.5171\n",
      "Epoch 13/25\n",
      "50000/50000 [==============================] - 4s 73us/step - loss: 1.2651 - acc: 0.5514 - val_loss: 1.4078 - val_acc: 0.4974\n",
      "Epoch 14/25\n",
      "50000/50000 [==============================] - 4s 73us/step - loss: 1.2468 - acc: 0.5586 - val_loss: 1.3765 - val_acc: 0.5158\n"
     ]
    },
    {
     "data": {
      "text/plain": [
       "<keras.callbacks.History at 0x7fce18c7d588>"
      ]
     },
     "execution_count": 14,
     "metadata": {},
     "output_type": "execute_result"
    }
   ],
   "source": [
    "## MLP \n",
    "mlp_model = get_ppd_model(name=DATASET_NAME, ppd=False)\n",
    "mlp_model.summary()\n",
    "mlp_model.compile(optimizer='adam',\n",
    "              loss='sparse_categorical_crossentropy',\n",
    "              metrics=['accuracy'])\n",
    "\n",
    "mlp_model.fit(x_train, y_train, epochs=25, verbose=1, batch_size=128, validation_data=(x_test, y_test), callbacks=[EarlyStopping(monitor='val_loss', patience=2)])"
   ]
  },
  {
   "cell_type": "code",
   "execution_count": 15,
   "metadata": {
    "scrolled": true
   },
   "outputs": [
    {
     "name": "stdout",
     "output_type": "stream",
     "text": [
      "_________________________________________________________________\n",
      "Layer (type)                 Output Shape              Param #   \n",
      "=================================================================\n",
      "input_images (InputLayer)    (None, 32, 32, 3)         0         \n",
      "_________________________________________________________________\n",
      "pixel2phase (Lambda)         (None, 32, 32, 3)         0         \n",
      "_________________________________________________________________\n",
      "flatten (Flatten)            (None, 3072)              0         \n",
      "_________________________________________________________________\n",
      "dense800 (Dense)             (None, 800)               2458400   \n",
      "_________________________________________________________________\n",
      "dense300 (Dense)             (None, 300)               240300    \n",
      "_________________________________________________________________\n",
      "dense10 (Dense)              (None, 10)                3010      \n",
      "=================================================================\n",
      "Total params: 2,701,710\n",
      "Trainable params: 2,701,710\n",
      "Non-trainable params: 0\n",
      "_________________________________________________________________\n",
      "Train on 50000 samples, validate on 10000 samples\n",
      "Epoch 1/50\n",
      "50000/50000 [==============================] - 8s 157us/step - loss: 2.1477 - acc: 0.2376 - val_loss: 1.9880 - val_acc: 0.2794\n",
      "Epoch 2/50\n",
      "50000/50000 [==============================] - 7s 146us/step - loss: 1.7615 - acc: 0.3692 - val_loss: 2.0300 - val_acc: 0.2748\n",
      "Epoch 3/50\n",
      "50000/50000 [==============================] - 7s 148us/step - loss: 1.3992 - acc: 0.5081 - val_loss: 2.2152 - val_acc: 0.2707\n"
     ]
    },
    {
     "data": {
      "text/plain": [
       "<keras.callbacks.History at 0x7fce13b42a90>"
      ]
     },
     "execution_count": 15,
     "metadata": {},
     "output_type": "execute_result"
    }
   ],
   "source": [
    "## MLP + phase\n",
    "\n",
    "phase_model = get_ppd_model(name=DATASET_NAME, ppd=True)\n",
    "phase_model.summary()\n",
    "phase_model.compile(optimizer='adam',\n",
    "              loss='sparse_categorical_crossentropy',\n",
    "              metrics=['accuracy'])\n",
    "\n",
    "phase_model.fit(x_train, y_train, epochs=50, verbose=1, batch_size=128, validation_data=(x_test, y_test), callbacks=[EarlyStopping(monitor='val_loss', patience=2)])"
   ]
  },
  {
   "cell_type": "code",
   "execution_count": 16,
   "metadata": {
    "scrolled": true
   },
   "outputs": [
    {
     "name": "stdout",
     "output_type": "stream",
     "text": [
      "_________________________________________________________________\n",
      "Layer (type)                 Output Shape              Param #   \n",
      "=================================================================\n",
      "input_images (InputLayer)    (None, 32, 32, 3)         0         \n",
      "_________________________________________________________________\n",
      "flatten (Flatten)            (None, 3072)              0         \n",
      "_________________________________________________________________\n",
      "dense800 (Dense)             (None, 800)               2458400   \n",
      "_________________________________________________________________\n",
      "dense300 (Dense)             (None, 300)               240300    \n",
      "_________________________________________________________________\n",
      "dense10 (Dense)              (None, 10)                3010      \n",
      "=================================================================\n",
      "Total params: 2,701,710\n",
      "Trainable params: 2,701,710\n",
      "Non-trainable params: 0\n",
      "_________________________________________________________________\n",
      "Train on 50000 samples, validate on 10000 samples\n",
      "Epoch 1/50\n",
      "50000/50000 [==============================] - 5s 96us/step - loss: 1.9154 - acc: 0.3191 - val_loss: 1.7140 - val_acc: 0.3858\n",
      "Epoch 2/50\n",
      "50000/50000 [==============================] - 4s 79us/step - loss: 1.6902 - acc: 0.3946 - val_loss: 1.6313 - val_acc: 0.4147\n",
      "Epoch 3/50\n",
      "50000/50000 [==============================] - 4s 80us/step - loss: 1.6021 - acc: 0.4277 - val_loss: 1.5748 - val_acc: 0.4337\n",
      "Epoch 4/50\n",
      "50000/50000 [==============================] - 4s 79us/step - loss: 1.5344 - acc: 0.4507 - val_loss: 1.4983 - val_acc: 0.4706\n",
      "Epoch 5/50\n",
      "50000/50000 [==============================] - 4s 80us/step - loss: 1.4989 - acc: 0.4658 - val_loss: 1.5568 - val_acc: 0.4412\n",
      "Epoch 6/50\n",
      "50000/50000 [==============================] - 4s 80us/step - loss: 1.4545 - acc: 0.4814 - val_loss: 1.4833 - val_acc: 0.4728\n",
      "Epoch 7/50\n",
      "50000/50000 [==============================] - 4s 82us/step - loss: 1.4233 - acc: 0.4929 - val_loss: 1.4547 - val_acc: 0.4819\n",
      "Epoch 8/50\n",
      "50000/50000 [==============================] - 4s 81us/step - loss: 1.3942 - acc: 0.5019 - val_loss: 1.4653 - val_acc: 0.4803\n",
      "Epoch 9/50\n",
      "50000/50000 [==============================] - 4s 81us/step - loss: 1.3706 - acc: 0.5123 - val_loss: 1.3922 - val_acc: 0.5025\n",
      "Epoch 10/50\n",
      "50000/50000 [==============================] - 4s 79us/step - loss: 1.3374 - acc: 0.5224 - val_loss: 1.3972 - val_acc: 0.5046\n",
      "Epoch 11/50\n",
      "50000/50000 [==============================] - 4s 82us/step - loss: 1.3102 - acc: 0.5356 - val_loss: 1.4329 - val_acc: 0.4937\n"
     ]
    },
    {
     "data": {
      "text/plain": [
       "<keras.callbacks.History at 0x7fce1374ca58>"
      ]
     },
     "execution_count": 16,
     "metadata": {},
     "output_type": "execute_result"
    }
   ],
   "source": [
    "## MLP + Permutation (seed 87)\n",
    "SECRET_SEED = 87\n",
    "x_train_shuffle = permute_pixels(x_train, SECRET_SEED)\n",
    "x_test_shuffle = permute_pixels(x_test, SECRET_SEED)\n",
    "\n",
    "perm_model = get_ppd_model(name=DATASET_NAME, ppd=False)\n",
    "perm_model.summary()\n",
    "perm_model.compile(optimizer='adam',\n",
    "              loss='sparse_categorical_crossentropy',\n",
    "              metrics=['accuracy'])\n",
    "\n",
    "perm_model.fit(x_train_shuffle, y_train, epochs=50, verbose=1, batch_size=128, validation_data=(x_test_shuffle, y_test), callbacks=[EarlyStopping(monitor='val_loss', patience=2)])\n",
    "\n"
   ]
  },
  {
   "cell_type": "code",
   "execution_count": 17,
   "metadata": {
    "scrolled": true
   },
   "outputs": [
    {
     "name": "stdout",
     "output_type": "stream",
     "text": [
      "_________________________________________________________________\n",
      "Layer (type)                 Output Shape              Param #   \n",
      "=================================================================\n",
      "input_images (InputLayer)    (None, 32, 32, 3)         0         \n",
      "_________________________________________________________________\n",
      "flatten (Flatten)            (None, 3072)              0         \n",
      "_________________________________________________________________\n",
      "dense800 (Dense)             (None, 800)               2458400   \n",
      "_________________________________________________________________\n",
      "dense300 (Dense)             (None, 300)               240300    \n",
      "_________________________________________________________________\n",
      "dense10 (Dense)              (None, 10)                3010      \n",
      "=================================================================\n",
      "Total params: 2,701,710\n",
      "Trainable params: 2,701,710\n",
      "Non-trainable params: 0\n",
      "_________________________________________________________________\n",
      "Train on 50000 samples, validate on 10000 samples\n",
      "Epoch 1/50\n",
      "50000/50000 [==============================] - 5s 97us/step - loss: 1.9231 - acc: 0.3195 - val_loss: 1.6969 - val_acc: 0.3975\n",
      "Epoch 2/50\n",
      "50000/50000 [==============================] - 4s 81us/step - loss: 1.6839 - acc: 0.3989 - val_loss: 1.6219 - val_acc: 0.4293\n",
      "Epoch 3/50\n",
      "50000/50000 [==============================] - 4s 80us/step - loss: 1.5938 - acc: 0.4319 - val_loss: 1.5514 - val_acc: 0.4499\n",
      "Epoch 4/50\n",
      "50000/50000 [==============================] - 4s 81us/step - loss: 1.5286 - acc: 0.4551 - val_loss: 1.5223 - val_acc: 0.4556\n",
      "Epoch 5/50\n",
      "50000/50000 [==============================] - 4s 80us/step - loss: 1.4900 - acc: 0.4701 - val_loss: 1.4940 - val_acc: 0.4713\n",
      "Epoch 6/50\n",
      "50000/50000 [==============================] - 4s 80us/step - loss: 1.4555 - acc: 0.4809 - val_loss: 1.4903 - val_acc: 0.4678\n",
      "Epoch 7/50\n",
      "50000/50000 [==============================] - 4s 80us/step - loss: 1.4235 - acc: 0.4927 - val_loss: 1.4658 - val_acc: 0.4774\n",
      "Epoch 8/50\n",
      "50000/50000 [==============================] - 4s 81us/step - loss: 1.3928 - acc: 0.5033 - val_loss: 1.4517 - val_acc: 0.4884\n",
      "Epoch 9/50\n",
      "50000/50000 [==============================] - 4s 80us/step - loss: 1.3701 - acc: 0.5141 - val_loss: 1.4488 - val_acc: 0.4882\n",
      "Epoch 10/50\n",
      "50000/50000 [==============================] - 4s 80us/step - loss: 1.3416 - acc: 0.5196 - val_loss: 1.4506 - val_acc: 0.4906\n",
      "Epoch 11/50\n",
      "50000/50000 [==============================] - 4s 80us/step - loss: 1.3160 - acc: 0.5332 - val_loss: 1.4132 - val_acc: 0.4958\n",
      "Epoch 12/50\n",
      "50000/50000 [==============================] - 4s 81us/step - loss: 1.3014 - acc: 0.5369 - val_loss: 1.3888 - val_acc: 0.5092\n",
      "Epoch 13/50\n",
      "50000/50000 [==============================] - 4s 82us/step - loss: 1.2742 - acc: 0.5482 - val_loss: 1.4106 - val_acc: 0.4966\n",
      "Epoch 14/50\n",
      "50000/50000 [==============================] - 4s 80us/step - loss: 1.2553 - acc: 0.5553 - val_loss: 1.3860 - val_acc: 0.5063\n",
      "Epoch 15/50\n",
      "50000/50000 [==============================] - 4s 79us/step - loss: 1.2323 - acc: 0.5631 - val_loss: 1.3906 - val_acc: 0.5070\n",
      "Epoch 16/50\n",
      "50000/50000 [==============================] - 4s 79us/step - loss: 1.2149 - acc: 0.5675 - val_loss: 1.3923 - val_acc: 0.5117\n"
     ]
    },
    {
     "data": {
      "text/plain": [
       "<keras.callbacks.History at 0x7fce132c6940>"
      ]
     },
     "execution_count": 17,
     "metadata": {},
     "output_type": "execute_result"
    }
   ],
   "source": [
    "## MLP + Permutation (seed 23)\n",
    "OTHER_SEED = 23\n",
    "x_train_shuffle = permute_pixels(x_train, OTHER_SEED)\n",
    "x_test_shuffle = permute_pixels(x_test, OTHER_SEED)\n",
    "\n",
    "perm_model2 = get_ppd_model(name=DATASET_NAME, ppd=False)\n",
    "perm_model2.summary()\n",
    "perm_model2.compile(optimizer='adam',\n",
    "              loss='sparse_categorical_crossentropy',\n",
    "              metrics=['accuracy'])\n",
    "\n",
    "perm_model2.fit(x_train_shuffle, y_train, epochs=50, verbose=1, batch_size=128, validation_data=(x_test_shuffle, y_test), callbacks=[EarlyStopping(monitor='val_loss', patience=2)])\n",
    "\n"
   ]
  },
  {
   "cell_type": "code",
   "execution_count": 18,
   "metadata": {
    "scrolled": true
   },
   "outputs": [
    {
     "name": "stdout",
     "output_type": "stream",
     "text": [
      "_________________________________________________________________\n",
      "Layer (type)                 Output Shape              Param #   \n",
      "=================================================================\n",
      "input_images (InputLayer)    (None, 32, 32, 3)         0         \n",
      "_________________________________________________________________\n",
      "pixel2phase (Lambda)         (None, 32, 32, 3)         0         \n",
      "_________________________________________________________________\n",
      "flatten (Flatten)            (None, 3072)              0         \n",
      "_________________________________________________________________\n",
      "dense800 (Dense)             (None, 800)               2458400   \n",
      "_________________________________________________________________\n",
      "dense300 (Dense)             (None, 300)               240300    \n",
      "_________________________________________________________________\n",
      "dense10 (Dense)              (None, 10)                3010      \n",
      "=================================================================\n",
      "Total params: 2,701,710\n",
      "Trainable params: 2,701,710\n",
      "Non-trainable params: 0\n",
      "_________________________________________________________________\n",
      "Train on 50000 samples, validate on 10000 samples\n",
      "Epoch 1/50\n",
      "50000/50000 [==============================] - 8s 164us/step - loss: 1.7485 - acc: 0.4043 - val_loss: 1.5783 - val_acc: 0.4421\n",
      "Epoch 2/50\n",
      "50000/50000 [==============================] - 7s 147us/step - loss: 1.2706 - acc: 0.5552 - val_loss: 1.5639 - val_acc: 0.4628\n",
      "Epoch 3/50\n",
      "50000/50000 [==============================] - 7s 145us/step - loss: 0.9167 - acc: 0.6805 - val_loss: 1.7489 - val_acc: 0.4570\n",
      "Epoch 4/50\n",
      "50000/50000 [==============================] - 7s 146us/step - loss: 0.5835 - acc: 0.7979 - val_loss: 1.9705 - val_acc: 0.4521\n"
     ]
    },
    {
     "data": {
      "text/plain": [
       "<keras.callbacks.History at 0x7fce12efc748>"
      ]
     },
     "execution_count": 18,
     "metadata": {},
     "output_type": "execute_result"
    }
   ],
   "source": [
    "## MLP + PPD (seed 87)\n",
    "\n",
    "SECRET_SEED = 87\n",
    "x_train_shuffle = permute_pixels(x_train, SECRET_SEED)\n",
    "x_test_shuffle = permute_pixels(x_test, SECRET_SEED)\n",
    "\n",
    "ppd_mlp_model = get_ppd_model(name=DATASET_NAME, ppd=True)\n",
    "ppd_mlp_model.summary()\n",
    "ppd_mlp_model.compile(optimizer='adam',\n",
    "              loss='sparse_categorical_crossentropy',\n",
    "              metrics=['accuracy'])\n",
    "\n",
    "ppd_mlp_model.fit(x_train_shuffle, y_train, epochs=50, verbose=1, batch_size=128, validation_data=(x_test_shuffle, y_test), callbacks=[EarlyStopping(monitor='val_loss', patience=2)])"
   ]
  },
  {
   "cell_type": "code",
   "execution_count": 19,
   "metadata": {
    "scrolled": true
   },
   "outputs": [
    {
     "name": "stdout",
     "output_type": "stream",
     "text": [
      "_________________________________________________________________\n",
      "Layer (type)                 Output Shape              Param #   \n",
      "=================================================================\n",
      "input_images (InputLayer)    (None, 32, 32, 3)         0         \n",
      "_________________________________________________________________\n",
      "pixel2phase (Lambda)         (None, 32, 32, 3)         0         \n",
      "_________________________________________________________________\n",
      "flatten (Flatten)            (None, 3072)              0         \n",
      "_________________________________________________________________\n",
      "dense800 (Dense)             (None, 800)               2458400   \n",
      "_________________________________________________________________\n",
      "dense300 (Dense)             (None, 300)               240300    \n",
      "_________________________________________________________________\n",
      "dense10 (Dense)              (None, 10)                3010      \n",
      "=================================================================\n",
      "Total params: 2,701,710\n",
      "Trainable params: 2,701,710\n",
      "Non-trainable params: 0\n",
      "_________________________________________________________________\n",
      "Train on 50000 samples, validate on 10000 samples\n",
      "Epoch 1/50\n",
      "50000/50000 [==============================] - 8s 163us/step - loss: 1.7429 - acc: 0.4030 - val_loss: 1.5536 - val_acc: 0.4552\n",
      "Epoch 2/50\n",
      "50000/50000 [==============================] - 7s 145us/step - loss: 1.2632 - acc: 0.5578 - val_loss: 1.5607 - val_acc: 0.4596\n",
      "Epoch 3/50\n",
      "50000/50000 [==============================] - 7s 144us/step - loss: 0.9132 - acc: 0.6786 - val_loss: 1.6820 - val_acc: 0.4584\n"
     ]
    },
    {
     "data": {
      "text/plain": [
       "<keras.callbacks.History at 0x7fce12e99898>"
      ]
     },
     "execution_count": 19,
     "metadata": {},
     "output_type": "execute_result"
    }
   ],
   "source": [
    "## MLP + PPD (seed 23)\n",
    "\n",
    "OTHER_SEED = 23\n",
    "x_train_shuffle = permute_pixels(x_train, OTHER_SEED)\n",
    "x_test_shuffle = permute_pixels(x_test, OTHER_SEED)\n",
    "\n",
    "other_model = get_ppd_model(name=DATASET_NAME, ppd=True)\n",
    "other_model.summary()\n",
    "other_model.compile(optimizer='adam',\n",
    "              loss='sparse_categorical_crossentropy',\n",
    "              metrics=['accuracy'])\n",
    "\n",
    "other_model.fit(x_train_shuffle, y_train, epochs=50, verbose=1, batch_size=128, validation_data=(x_test_shuffle, y_test), callbacks=[EarlyStopping(monitor='val_loss', patience=2)])"
   ]
  },
  {
   "cell_type": "code",
   "execution_count": 20,
   "metadata": {},
   "outputs": [],
   "source": [
    "sess =  backend.get_session()\n",
    "backend.set_learning_phase(False)\n",
    "attack_params = {\n",
    "    'eps': 0.4\n",
    "    }\n",
    "\n",
    "def get_adv_exapmles(model, x, sess, attack_params):\n",
    "    wrap = KerasModelWrapper(model)\n",
    "    attack_model = FastGradientMethod(wrap, sess=sess)\n",
    "    x_adv = attack_model.generate_np(x, **attack_params)\n",
    "    return x_adv\n",
    "\n",
    "x_adv_mlp = get_adv_exapmles(mlp_model, x_test, sess, attack_params)\n",
    "x_adv_phase = get_adv_exapmles(phase_model, x_test, sess, attack_params)\n",
    "x_adv_perm = get_adv_exapmles(perm_model, x_test, sess, attack_params)\n",
    "x_adv_ppd = get_adv_exapmles(ppd_mlp_model, x_test, sess, attack_params)"
   ]
  },
  {
   "cell_type": "code",
   "execution_count": 22,
   "metadata": {},
   "outputs": [
    {
     "name": "stdout",
     "output_type": "stream",
     "text": [
      "MLP acc normally 0.5158\n",
      "MLP acc adv 0.0813\n",
      "Phase MLP acc normally 0.2707\n",
      "Phase MLP acc adv 0.1935\n",
      "Perm MLP acc normally 0.4937\n",
      "Perm MLP acc adv 0.304\n",
      "Perm MLP hidden seed acc normally 0.5117\n",
      "Perm MLP hidden seed acc adv 0.3089\n",
      "PPD MLP acc normally 0.4521\n",
      "PPD MLP acc adv 0.2312\n",
      "PPD MLP hidden seed acc normally 0.4584\n",
      "PPD MLP hidden seed acc adv 0.2499\n"
     ]
    }
   ],
   "source": [
    "def test_model(model, x, y):\n",
    "    pred = np.argmax(model.predict(x), axis = 1)\n",
    "    acc =  np.mean(np.equal(pred.reshape(y.shape), y))\n",
    "    return (pred, acc)\n",
    "\n",
    "pred, acc = test_model(mlp_model, x_test, y_test)\n",
    "print ('MLP acc normally', acc)\n",
    "pred, acc = test_model(mlp_model, x_adv_mlp, y_test)\n",
    "print ('MLP acc adv', acc)\n",
    "\n",
    "pred, acc = test_model(phase_model, x_test, y_test)\n",
    "print ('Phase MLP acc normally', acc)\n",
    "pred, acc = test_model(phase_model, x_adv_phase, y_test)\n",
    "print ('Phase MLP acc adv', acc)\n",
    "\n",
    "x_shuffle = permute_pixels(x_test, SECRET_SEED)\n",
    "x_adv_shuffle = permute_pixels(x_adv_perm, SECRET_SEED)\n",
    "\n",
    "pred, acc = test_model(perm_model, x_shuffle, y_test)\n",
    "print ('Perm MLP acc normally', acc)\n",
    "pred, acc = test_model(perm_model, x_adv_shuffle, y_test)\n",
    "print ('Perm MLP acc adv', acc)\n",
    "\n",
    "x_shuffle = permute_pixels(x_test, OTHER_SEED)\n",
    "x_adv_shuffle = permute_pixels(x_adv_perm, OTHER_SEED)\n",
    "\n",
    "pred, acc = test_model(perm_model2, x_shuffle, y_test)\n",
    "print ('Perm MLP hidden seed acc normally', acc)\n",
    "pred, acc = test_model(perm_model2, x_adv_shuffle, y_test)\n",
    "print ('Perm MLP hidden seed acc adv', acc)\n",
    "\n",
    "x_shuffle = permute_pixels(x_test, SECRET_SEED)\n",
    "x_adv_shuffle = permute_pixels(x_adv_ppd, SECRET_SEED)\n",
    "\n",
    "pred, acc = test_model(ppd_mlp_model, x_shuffle, y_test)\n",
    "print ('PPD MLP acc normally', acc)\n",
    "pred, acc = test_model(ppd_mlp_model, x_adv_shuffle, y_test)\n",
    "print ('PPD MLP acc adv', acc)\n",
    "\n",
    "x_shuffle = permute_pixels(x_test, OTHER_SEED)\n",
    "x_adv_shuffle = permute_pixels(x_adv_ppd, OTHER_SEED)\n",
    "\n",
    "pred, acc = test_model(other_model, x_shuffle, y_test)\n",
    "print ('PPD MLP hidden seed acc normally', acc)\n",
    "pred, acc = test_model(other_model, x_adv_shuffle, y_test)\n",
    "print ('PPD MLP hidden seed acc adv', acc)"
   ]
  },
  {
   "cell_type": "code",
   "execution_count": null,
   "metadata": {},
   "outputs": [],
   "source": []
  },
  {
   "cell_type": "code",
   "execution_count": null,
   "metadata": {},
   "outputs": [],
   "source": []
  },
  {
   "cell_type": "code",
   "execution_count": null,
   "metadata": {},
   "outputs": [],
   "source": []
  },
  {
   "cell_type": "code",
   "execution_count": 25,
   "metadata": {},
   "outputs": [
    {
     "data": {
      "image/png": "[encoded data removed]",
      "text/plain": [
       "<Figure size 720x720 with 1 Axes>"
      ]
     },
     "metadata": {},
     "output_type": "display_data"
    }
   ],
   "source": [
    "plt.figure(0, figsize=(10, 10))\n",
    "mpl.rcParams.update({'font.size': 22})\n",
    "\n",
    "plt.plot([0, 1], [0, 1], 'k--', linewidth=5)\n",
    "plt.scatter([0.803],[0.1338], s=450, marker='*', color='c', label='CNN', edgecolor='#616366')\n",
    "plt.scatter([0.4185],[0.2013], s=300, marker='o', color='c', label='PPD + CNN (seed known)', edgecolor='#616366')\n",
    "plt.scatter([0.4232],[0.2061], s=300, marker='s', color='c', label='PPD + CNN (seed hidden)', edgecolor='#616366')\n",
    "\n",
    "plt.scatter([0.5138],[0.0625], s=450, marker='*', color='m', label='MLP', edgecolor='#616366')\n",
    "plt.scatter([0.4394],[0.236], s=300, marker='o', color='m', label='PPD + MLP (seed known)', edgecolor='#616366')\n",
    "plt.scatter([0.4634],[0.2061], s=300, marker='s', color='m', label='PPD + MLP (seed hidden)', edgecolor='#616366')\n",
    "\n",
    "plt.xlabel('Classification Accuracy on Clean Images')\n",
    "plt.ylabel('Classification Accuracy on Adversarial Images')\n",
    "plt.title('Performance on CIFAR-10')\n",
    "plt.legend(fontsize=18)\n",
    "plt.savefig('performance.pdf', bbox_inches='tight')"
   ]
  },
  {
   "cell_type": "code",
   "execution_count": 26,
   "metadata": {},
   "outputs": [
    {
     "data": {
      "image/png": "[encoded data removed]",
      "text/plain": [
       "<Figure size 720x720 with 1 Axes>"
      ]
     },
     "metadata": {},
     "output_type": "display_data"
    }
   ],
   "source": [
    "plt.figure(0, figsize=(10, 10))\n",
    "mpl.rcParams.update({'font.size': 22})\n",
    "\n",
    "plt.plot([0, 1], [0, 1], 'k--', linewidth=5)\n",
    "plt.scatter([0.803],[0.1338], s=450, marker='*', color='c', label='CNN', edgecolor='#616366')\n",
    "plt.scatter([0.5764],[0.2084], s=300, marker='X', color='c', label='Phase + CNN', edgecolor='#616366')\n",
    "plt.scatter([0.5247],[0.1413], s=300, marker='v', color='c', label='Permutation + CNN (seed known)', edgecolor='#616366')\n",
    "plt.scatter([0.5313],[0.1508], s=300, marker='^', color='c', label='Permutation + CNN (seed hidden)', edgecolor='#616366')\n",
    "\n",
    "plt.scatter([0.5138],[0.0625], s=450, marker='*', color='m', label='MLP', edgecolor='#616366')\n",
    "plt.scatter([0.2707],[0.1935], s=300, marker='X', color='m', label='Phase + MLP', edgecolor='#616366')\n",
    "plt.scatter([0.4937],[0.304], s=300, marker='v', color='m', label='Permutation + MLP (seed known)', edgecolor='#616366')\n",
    "plt.scatter([0.5117],[0.3089], s=300, marker='^', color='m', label='Permutation + MLP (seed hidden)', edgecolor='#616366')\n",
    "\n",
    "plt.xlabel('Classification Accuracy on Clean Images')\n",
    "plt.ylabel('Classification Accuracy on Adversarial Images')\n",
    "plt.title('Performance on CIFAR-10')\n",
    "plt.legend(fontsize=18)\n",
    "plt.savefig('performance_breakdown.pdf', bbox_inches='tight')"
   ]
  },
  {
   "cell_type": "code",
   "execution_count": null,
   "metadata": {},
   "outputs": [],
   "source": []
  }
 ],
 "metadata": {
  "kernelspec": {
   "display_name": "Environment (conda_tensorflow_p36)",
   "language": "python",
   "name": "conda_tensorflow_p36"
  },
  "language_info": {
   "codemirror_mode": {
    "name": "ipython",
    "version": 3
   },
   "file_extension": ".py",
   "mimetype": "text/x-python",
   "name": "python",
   "nbconvert_exporter": "python",
   "pygments_lexer": "ipython3",
   "version": "3.6.5"
  }
 },
 "nbformat": 4,
 "nbformat_minor": 2
}
